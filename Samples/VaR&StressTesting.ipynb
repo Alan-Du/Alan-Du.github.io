{
 "cells": [
  {
   "cell_type": "markdown",
   "metadata": {},
   "source": [
    "# VaR&StressTesting Workbook\n",
    "--- Dec-03-2019, Alan, Shaolun.du@gmail.com\n",
    "\n",
    "This is a detailed workbook with examples on VaR calculation and StressTesting calculations for swaps. We will start from rate curve building to swap pricing to VaR and StressTesting. In the following, I will seperate this workbook into tow parts: \n",
    "<h4 align=\"center\">VaR</h4>\n",
    "<h4 align=\"center\">StressTesting</h4>\n",
    "\n",
    "<span style=\"color:blue\">\n",
    "- VaR: Value at risk (VaR) is a measure of the risk of loss for investments. It estimates how much a set of investments might lose (with a given probability), given normal market conditions, in a set time period such as a day. VaR is typically used by firms and regulators in the financial industry to gauge the amount of assets needed to cover possible losses. There are three different ways to calculate VaR: \n",
    "    - Historical method: The historical method simply re-organizes actual historical returns, putting them in order from worst to best. It then assumes that history will repeat itself, from a risk perspective.\n",
    "    - Variance-Covariance method: This method assumes that returns are normally distributed. In other words, it requires that we estimate only two factors - an expected (or average) return and a standard deviation - which allow us to plot a normal distribution curve.\n",
    "    - ***Monte-Carlo simulation***: The third method involves developing a model for future stock price returns and running multiple hypothetical trials through the model. A Monte Carlo simulation refers to any method that randomly generates trials, but by itself does not tell us anything about the underlying methodology.\n",
    "    \n",
    "I will talk about how to use Monte-Carlo method and this knowledge is heavily depended on my previous post. PLEASE refer to ShortRate model and XVAcalculation workbooks.\n",
    "\n",
    "- StressTesting: Stress testing is a form of deliberately intense or thorough testing used to determine the stability of a given system or entity. It involves testing beyond normal operational capacity, often to a breaking point, in order to observe the results. In financial area, people tend to test a given portfolio (strategy) under market stressed times. Later on, I will talk about how to identify market stressed periods as well as how to define a set of stressed conditions (scenarios) for stress testing. Basically, what we will do is to re-value a portfolio/strategy given those different market scenarios.\n",
    "    - In this method, I will directly refer to my paper on market review. Please take a look on \"MarketStressedPeriodReview_LongPeriod.pdf\". \n",
    "</span>\n",
    "\n",
    "### Before getting into codes, Please include all these libraries:"
   ]
  },
  {
   "cell_type": "code",
   "execution_count": 1,
   "metadata": {
    "collapsed": true
   },
   "outputs": [],
   "source": [
    "import math\n",
    "import numpy as np\n",
    "import QuantLib as ql\n",
    "import datetime as dt\n",
    "from collections import namedtuple\n",
    "import matplotlib.pyplot as plt\n",
    "import matplotlib.mlab as mlab\n",
    "from scipy import stats \n",
    "import seaborn as sns\n",
    "%matplotlib inline"
   ]
  },
  {
   "cell_type": "markdown",
   "metadata": {},
   "source": [
    "## VaR calculation on Swap\n",
    "\n",
    "Now, let us start to work on VaR calculation on a given swap. I will again use the previous USD swap as an example here."
   ]
  },
  {
   "cell_type": "markdown",
   "metadata": {},
   "source": [
    "## Covariance method with PV01\n",
    "\n",
    "Given a set of market quotes:(The same swap I will use with Monte-Carlo method later)\n",
    "\n",
    "Swap Coupon = 1.62%\n",
    "\n",
    "Swap Maturity = 7 Years\n",
    "\n",
    "Swap PV01 = 660 per 1MM Notional\n",
    "\n",
    "Alpha = 1% implied z-score = 2.33\n",
    "\n",
    "Historical changes in 7 Years US swap rate std. = 0.02\n",
    "\n",
    "Apply VaR formula as following:\n",
    "$$VaR = PV01(\\%)*CloseRate*std(rate change)*ZFactor*100 $$\n",
    "\n",
    "So we have: \n",
    "$$VaR_{0.01,1D} = 0.066*0.0162*0.02*2.33*100 = 0.498\\%%$$\n",
    "\n",
    "Convert into 14D USD value approximated 18633."
   ]
  },
  {
   "cell_type": "markdown",
   "metadata": {},
   "source": [
    "## Monte-Carlo Simulation method:\n",
    "\n",
    "\n",
    "We will following the procedure:\n",
    "<span>\n",
    "<font color='blue'>\n",
    "\n",
    "1. Get zero coupon rates from the swap rates series by bootstrap.\n",
    "2. Deduce value at risk scenarios from this serie (evaluation of zero rates at each time step), if what we want is a 10d VaR, you can consider 10d variations.\n",
    "3. For each VaR scenario, apply the scenario to today's zero curve, and value the swap using the resulting zero curve. This will give us a vector of NPVs and hence a vector of P&Ls (wrt today's NPV).\n",
    "4. Get the relevant quantile of this P&L vector, this is your value at risk.\n",
    "</span>\n",
    "\n",
    "## Step 0 - Define current zero curve and a test swap to run VaR:"
   ]
  },
  {
   "cell_type": "code",
   "execution_count": 2,
   "metadata": {
    "collapsed": true
   },
   "outputs": [],
   "source": [
    "# Helper function for curve building please refer to previous post\n",
    "# Pull out a yield curve for pricing\n",
    "# Details please refer to previous workbook, we will use USD LIBOR curve here.\n",
    "Con_dict = {\n",
    "# All details listed here is directly from the market instruments\n",
    "# If changed to another sets of market instruments please update details here!\n",
    "    \"Cash\":{ \"DayCount\":ql.Actual360(),\n",
    "             \"EOM\":False, # Check if end of month please change correspondingly\n",
    "             \"BsDay\":ql.ModifiedFollowing,\n",
    "             \"Calendar\":ql.UnitedStates(),\n",
    "             \"SettlementDays\": 2, # Settlement shift after fixing\n",
    "           },\n",
    "    \"Future\":{ \"DayCount\":ql.Actual360(),\n",
    "               \"EOM\":False, # Check if end of month please change correspondingly\n",
    "               \"BsDay\":ql.ModifiedFollowing,\n",
    "               \"ConVes_Adj\":ql.QuoteHandle(ql.SimpleQuote(0.0)),# For convexity adjustment\n",
    "               \"Calendar\":ql.UnitedStates(),\n",
    "               \"SettlementDays\": 2, # Settlement shift after fixing\n",
    "               \"LengthInMonths\": 3,\n",
    "             },\n",
    "    \"Swap\":{  \"Index\":ql.USDLibor(ql.Period(3,ql.Months)), # Floating Leg index rate\n",
    "              \"FloatingLegTenor\":ql.Period(3,ql.Months),\n",
    "              \"FloatingLegFrequency\":ql.Quarterly,\n",
    "              \"FloatingLegAdjustment\":ql.ModifiedFollowing,\n",
    "              \"FloatingLegDayCounter\":ql.Actual360(),\n",
    "              \"FixedLegFrequency\":ql.Semiannual,\n",
    "              \"FixedLegTenor\":ql.Period(6,ql.Months),\n",
    "              \"FixedLegAdjustment\":ql.ModifiedFollowing,\n",
    "              \"FixedLegDayCounter\":ql.Thirty360(),\n",
    "              \"SettlementDays\": 2, # Settlement shift after fixing\n",
    "              \"Calendar\":ql.UnitedStates(),\n",
    "            },\n",
    "}\n",
    "Mkt_dict = {\n",
    "    \"SDate\": ql.Date(18,11,2019), # Curve starting date\n",
    "    \"Cash\":{ (1,ql.Months): 0.018325,\n",
    "             (3,ql.Months): 0.019026,\n",
    "             (6,ql.Months): 0.019185,\n",
    "           },\n",
    "    \"Future\":{ # IMM dates can be automated using above functions\n",
    "               # For clearly here I keep it as inputs date values\n",
    "               ql.Date(18,12,2019): 98.1125,\n",
    "               ql.Date(18,3,2020): 98.325,\n",
    "               ql.Date(17,6,2020): 98.415,\n",
    "               ql.Date(16,9,2020): 98.49,\n",
    "               ql.Date(16,9,2020): 98.49,\n",
    "               ql.Date(16,9,2020): 98.55,\n",
    "             },\n",
    "    \"Swap\":{  (2,ql.Years): 0.01604,\n",
    "              (3,ql.Years): 0.0157,\n",
    "              (4,ql.Years): 0.01567,\n",
    "              (5,ql.Years): 0.015785,\n",
    "              (6,ql.Years): 0.01597,\n",
    "              (7,ql.Years): 0.0162,\n",
    "              (8,ql.Years): 0.016475,\n",
    "              (9,ql.Years): 0.01677,\n",
    "              (10,ql.Years): 0.01705,\n",
    "              (11,ql.Years): 0.017315,\n",
    "              (12,ql.Years): 0.01756,\n",
    "              (15,ql.Years): 0.01811,\n",
    "              (20,ql.Years): 0.01869,\n",
    "              (25,ql.Years): 0.0189,\n",
    "              (30,ql.Years): 0.018932,\n",
    "              (40,ql.Years): 0.01873,\n",
    "            },\n",
    "    }\n",
    "def Bootstrapping( Market, Convention ):\n",
    "    sDate = Market[\"SDate\"]\n",
    "    ql.Settings.instance().evaluationDate = sDate\n",
    "    # Convert market quotes into QuantLib \"Quote objects\"\n",
    "    deposits = Market[\"Cash\"]\n",
    "    futures  = Market[\"Future\"]\n",
    "    swaps    = Market[\"Swap\"]\n",
    "    deposits_con  = Convention[\"Cash\"]\n",
    "    futuresc_con  = Convention[\"Future\"]\n",
    "    swaps_con     = Convention[\"Swap\"]\n",
    "    for n,unit in deposits.keys():\n",
    "        deposits[(n,unit)] = ql.SimpleQuote(deposits[(n,unit)])\n",
    "    for d in futures.keys():\n",
    "        futures[d] = ql.SimpleQuote(futures[d])\n",
    "    for n,unit in swaps.keys():\n",
    "        swaps[(n,unit)] = ql.SimpleQuote(swaps[(n,unit)])\n",
    "    # Build up helpers for curve building\n",
    "    depositHelpers = [ ql.DepositRateHelper( ql.QuoteHandle(deposits[(n,unit)]),\n",
    "                                             ql.Period(n,unit), deposits_con[\"SettlementDays\"],\n",
    "                                             deposits_con[\"Calendar\"], deposits_con[\"BsDay\"],\n",
    "                                             deposits_con[\"EOM\"], deposits_con[\"DayCount\"])\n",
    "                       for n, unit in deposits.keys() ]\n",
    "    futuresHelpers = [ ql.FuturesRateHelper( ql.QuoteHandle(futures[d]),\n",
    "                                             d, futuresc_con[\"LengthInMonths\"],\n",
    "                                             futuresc_con[\"Calendar\"], futuresc_con[\"BsDay\"],\n",
    "                                             futuresc_con[\"EOM\"], futuresc_con[\"DayCount\"],\n",
    "                                             futuresc_con[\"ConVes_Adj\"])\n",
    "                       for d in futures.keys() ]\n",
    "    swapHelpers = [ ql.SwapRateHelper( ql.QuoteHandle(swaps[(n,unit)]),\n",
    "                                       ql.Period(n,unit), swaps_con[\"Calendar\"],\n",
    "                                       swaps_con[\"FixedLegFrequency\"], swaps_con[\"FixedLegAdjustment\"],\n",
    "                                       swaps_con[\"FixedLegDayCounter\"], swaps_con[\"Index\"])\n",
    "                    for n, unit in swaps.keys() ]\n",
    "    # term-structure construction\n",
    "    helpers = depositHelpers + futuresHelpers + swapHelpers # Helpers combined\n",
    "    yts = ql.PiecewiseFlatForward( sDate, helpers, ql.Actual360()) # Forward curve defination\n",
    "    yts.enableExtrapolation()\n",
    "    return yts\n",
    "# Generate USE LIBOR yield curve with TermStructure object\n",
    "base_yts = Bootstrapping(Mkt_dict, Con_dict)\n",
    "hyts = ql.RelinkableYieldTermStructureHandle(base_yts) # Build discounting curve into a term structure"
   ]
  },
  {
   "cell_type": "markdown",
   "metadata": {},
   "source": [
    "<h4>Swap Object Build: ATM swap with 1MM notional and DV01 = 659.</h4>"
   ]
  },
  {
   "cell_type": "code",
   "execution_count": 3,
   "metadata": {},
   "outputs": [
    {
     "name": "stdout",
     "output_type": "stream",
     "text": [
      "Current Date=November 18th, 2019,NPV=-16.738972403371008\n",
      "DV01=659.1436890765253\n"
     ]
    }
   ],
   "source": [
    "# Swap object defined as a dictionary with float leg and fixed leg\n",
    "# Inorder to advance date in Quantlib we have to use a calender object\n",
    "t_calendar = ql.UnitedStates()\n",
    "settle_date = ql.Date(1, 12, 2019)\n",
    "maturity_date = ql.Date(1, 12, 2026)\n",
    "LiborXm = ql.USDLibor(ql.Period(3, ql.Months),hyts)\n",
    "V_Swap_Dict = {\n",
    "    \"Type\":ql.VanillaSwap.Payer,\n",
    "    \"Notional\":1000000,\n",
    "    \"Fixed_Leg\":{\n",
    "        \"fixedSchedule\":ql.Schedule( settle_date, \n",
    "                                     maturity_date, \n",
    "                                     ql.Period(6, ql.Months), ql.UnitedStates(),\n",
    "                                     ql.ModifiedFollowing, ql.ModifiedFollowing,\n",
    "                                     ql.DateGeneration.Forward, False),\n",
    "        \"fixedRate\":0.0162, # Approx. ATM swap\n",
    "        \"fixedDayCount\":ql.Thirty360(),\n",
    "    },\n",
    "    \"Float_Leg\":{\n",
    "        \"floatSchedule\": ql.Schedule( settle_date, \n",
    "                                      maturity_date, \n",
    "                                      ql.Period(3, ql.Months), ql.UnitedStates(),\n",
    "                                      ql.ModifiedFollowing, ql.ModifiedFollowing,\n",
    "                                      ql.DateGeneration.Forward, False),\n",
    "        \"index\":LiborXm,\n",
    "        \"spread\":0,\n",
    "        \"floatingDayCount\":ql.Actual360(),\n",
    "    },\n",
    "}\n",
    "swap_test = ql.VanillaSwap(  V_Swap_Dict[\"Type\"], \n",
    "                             V_Swap_Dict[\"Notional\"], \n",
    "                             V_Swap_Dict[\"Fixed_Leg\"][\"fixedSchedule\"], \n",
    "                             V_Swap_Dict[\"Fixed_Leg\"][\"fixedRate\"], \n",
    "                             V_Swap_Dict[\"Fixed_Leg\"][\"fixedDayCount\"], \n",
    "                             V_Swap_Dict[\"Float_Leg\"][\"floatSchedule\"],\n",
    "                             V_Swap_Dict[\"Float_Leg\"][\"index\"],\n",
    "                             V_Swap_Dict[\"Float_Leg\"][\"spread\"], \n",
    "                             V_Swap_Dict[\"Float_Leg\"][\"floatingDayCount\"] )\n",
    "swap_engine = ql.DiscountingSwapEngine(hyts)\n",
    "swap_test.setPricingEngine(swap_engine)\n",
    "hyts.linkTo(base_yts)\n",
    "ql.Settings.instance().evaluationDate = Mkt_dict[\"SDate\"]\n",
    "print(\"Current Date={:},NPV={:}\".format(Mkt_dict[\"SDate\"],swap_test.NPV()))\n",
    "DV01 = abs(swap_test.fixedLegBPS())\n",
    "print('DV01={}'.format(DV01))"
   ]
  },
  {
   "cell_type": "markdown",
   "metadata": {},
   "source": [
    "## Step 1 - Define Monte-Carlo simulation with rates risk scenarios:"
   ]
  },
  {
   "cell_type": "code",
   "execution_count": 4,
   "metadata": {
    "collapsed": true
   },
   "outputs": [],
   "source": [
    "# Hull-White factor calibrated from short-rate model, see previous post\n",
    "startDate = ql.Date(18, 11, 2019)\n",
    "ql.Settings.instance().evaluationDate = startDate\n",
    "a = 0.01647\n",
    "sigma = 0.00712\n",
    "volas = [ql.QuoteHandle(ql.SimpleQuote(sigma)),\n",
    "         ql.QuoteHandle(ql.SimpleQuote(sigma))]\n",
    "meanRev = [ql.QuoteHandle(ql.SimpleQuote(a))]\n",
    "model = ql.Gsr(hyts, [startDate+100], volas, meanRev )\n",
    "process = model.stateProcess()\n",
    "# Define evaluation grid\n",
    "date_grid = [startDate + ql.Period(i,ql.Days) for i in range(0,30*12*5)]\n",
    "date_grid += [LiborXm.fixingDate(x) for x in V_Swap_Dict[\"Float_Leg\"][\"floatSchedule\"]]\n",
    "date_grid = np.sort(np.unique(date_grid))\n",
    "time_grid = np.vectorize(lambda x: ql.ActualActual().yearFraction(startDate, x))(date_grid)\n",
    "delta = time_grid[1:] - time_grid[:-1]\n",
    "# Random number generator\n",
    "seed = 1\n",
    "urng = ql.MersenneTwisterUniformRng(seed)\n",
    "usrg = ql.MersenneTwisterUniformRsg(len(time_grid)-1,urng)\n",
    "generator = ql.InvCumulativeMersenneTwisterGaussianRsg(usrg)\n",
    "\n",
    "# Generate N paths\n",
    "N = 2000\n",
    "x = np.zeros((N, len(time_grid))) # Zero Rates paths\n",
    "y = np.zeros((N, len(time_grid)))\n",
    "pillars = np.array([0.0, 0.5, 1, 2, 3, 4, 5, 6, 7, 8, 9, 10])\n",
    "zero_bonds = np.zeros((N, len(time_grid), len(pillars)))\n",
    "for j in range(12):\n",
    "    zero_bonds[:, 0, j] = model.zerobond(pillars[j], 0, 0)\n",
    "for n in range(0,N):\n",
    "    dWs = generator.nextSequence().value()\n",
    "    for i in range(1, len(time_grid)):\n",
    "        t0 = time_grid[i-1]\n",
    "        t1 = time_grid[i]\n",
    "        x[n,i] = process.expectation( t0, x[n,i-1], delta[i-1]) \\\n",
    "                + dWs[i-1] * process.stdDeviation( t0, x[n,i-1], delta[i-1])\n",
    "        y[n,i] = (x[n,i] - process.expectation(0,0,t1)) / process.stdDeviation(0,0,t1)\n",
    "        for j in range(12):\n",
    "            zero_bonds[n, i, j] = model.zerobond(t1+pillars[j], t1, y[n, i])"
   ]
  },
  {
   "cell_type": "code",
   "execution_count": 5,
   "metadata": {},
   "outputs": [
    {
     "data": {
      "image/png": "[encoded data removed]",
      "text/plain": [
       "<matplotlib.figure.Figure at 0x19d963c8>"
      ]
     },
     "metadata": {},
     "output_type": "display_data"
    }
   ],
   "source": [
    "# Quick for scenario curves in 10Days\n",
    "for i in range(0,N):\n",
    "    plt.plot(zero_bonds[i,10, :])"
   ]
  },
  {
   "cell_type": "markdown",
   "metadata": {},
   "source": [
    "### NOTE: The key point and difference between VaR and CVA calculation is:\n",
    "\n",
    "- VaR value different curves as if they are todays zerocurves\n",
    "- CVA value different curves as if they are future zerocurves"
   ]
  },
  {
   "cell_type": "markdown",
   "metadata": {},
   "source": [
    "## Step 2 - VaR calculation: Counting on swap value matrix with simulated path.\n",
    "\n",
    "After simulating all possible scenarios, we would like to take a given time period and running on the npv matrix to get a potnetial distribution at given time node.\n",
    "\n",
    "### Let us assume the following:\n",
    "\n",
    "- VaR alpha = 1%\n",
    "- T = 14 Days"
   ]
  },
  {
   "cell_type": "markdown",
   "metadata": {},
   "source": [
    "#### Run the VaR function with T = 14 and alpha = 1% also get distribbution"
   ]
  },
  {
   "cell_type": "code",
   "execution_count": 6,
   "metadata": {
    "collapsed": true
   },
   "outputs": [],
   "source": [
    "#Swap pricing under each scenario\n",
    "vaR_T = 14\n",
    "val_mat = np.zeros(N)\n",
    "for p in range(0,N):\n",
    "    ql.IndexManager.instance().clearHistories()\n",
    "    # Starting date always set to be todays date\n",
    "    date = date_grid[0]\n",
    "    ycDates =  [ date, date + ql.Period(6, ql.Months) ] \n",
    "    ycDates += [ date + ql.Period(i,ql.Years) for i in range(1,11) ]\n",
    "    yc = ql.DiscountCurve( ycDates, \n",
    "                           zero_bonds[p, vaR_T, :], \n",
    "                           ql.Actual365Fixed() )\n",
    "    yc.enableExtrapolation()\n",
    "    hyts.linkTo(yc)\n",
    "    if LiborXm.isValidFixingDate(date):\n",
    "        fixing = LiborXm.fixing(date)\n",
    "        LiborXm.addFixing(date, fixing)\n",
    "    val_mat[p] = swap_test.NPV()"
   ]
  },
  {
   "cell_type": "code",
   "execution_count": 7,
   "metadata": {
    "scrolled": true
   },
   "outputs": [
    {
     "data": {
      "text/plain": [
       "<matplotlib.text.Text at 0x377262b0>"
      ]
     },
     "execution_count": 7,
     "metadata": {},
     "output_type": "execute_result"
    },
    {
     "data": {
      "image/png": "[encoded data removed]",
      "text/plain": [
       "<matplotlib.figure.Figure at 0x3770b898>"
      ]
     },
     "metadata": {},
     "output_type": "display_data"
    }
   ],
   "source": [
    "alpha = 0.01\n",
    "VaR = sorted(val_mat)[int(alpha*N)]\n",
    "plt.plot(val_mat)\n",
    "plt.title('Plot of values in future given current market condition')\n",
    "plt.xlabel('Dates')\n",
    "plt.ylabel('Values')"
   ]
  },
  {
   "cell_type": "code",
   "execution_count": 8,
   "metadata": {
    "scrolled": true
   },
   "outputs": [
    {
     "name": "stdout",
     "output_type": "stream",
     "text": [
      "VaR for this swap at T = 14 is -22638.45934365211\n"
     ]
    },
    {
     "data": {
      "image/png": "[encoded data removed]",
      "text/plain": [
       "<matplotlib.figure.Figure at 0x37730390>"
      ]
     },
     "metadata": {},
     "output_type": "display_data"
    }
   ],
   "source": [
    "# Using seaborn plot a histogram for swap values\n",
    "plt.hist( val_mat,bins= int(len(val_mat)/10), normed=True )\n",
    "m, s = stats.norm.fit(val_mat)\n",
    "xt = plt.xticks()[0]  \n",
    "xmin, xmax = min(xt), max(xt)  \n",
    "lnspc = np.linspace(xmin, xmax, len(val_mat))\n",
    "pdf_g = stats.norm.pdf(lnspc, m, s)\n",
    "plt.plot(lnspc, pdf_g, label=\"Norm\")\n",
    "plt.axvline(x=VaR,color=\"red\")\n",
    "plt.title('Histogram of Swap Values At T = {:} Alpha = {:}'.format(vaR_T,alpha))\n",
    "plt.xlabel('Values')\n",
    "plt.ylabel('Counts')\n",
    "print(\"VaR for this swap at T = {:} is {:}\".format(vaR_T,VaR))"
   ]
  },
  {
   "cell_type": "markdown",
   "metadata": {},
   "source": [
    "## StressTesting on Swap\n",
    "\n",
    "Now let us take a look on stresstesting calculation on a given swap. We will continue to use the previous USD swap.\n",
    "\n",
    "Basically, stresstesting starts with stress condition(secnario) defination. In this notebook, I will  follow the stressed scenario I did in my paper \"MarketStressedPeriod_review.pdf\". Please refer to that for information. In the following, I will list out different scenarios as given:\n",
    "\n",
    "1. Curve Steepening: Linear upward shocking from Y2 to Y30.\n",
    "2. Curve Flatterning: Linear downward shocking from Y2 to Y30.\n",
    "3. Curve Convex Up: Linear upward shocking from Y2 to Y15 and downward shocking from Y15 to Y30.\n",
    "4. Curve Convex Down: Linear downward shocking from Y2 to Y15 and upward shocking from Y15 to Y30.\n",
    "\n",
    "Now, let us start shock curves for each scenario and re-price the swap."
   ]
  },
  {
   "cell_type": "code",
   "execution_count": 41,
   "metadata": {
    "collapsed": true
   },
   "outputs": [],
   "source": [
    "Mkt_dict = {\n",
    "    \"SDate\": ql.Date(18,11,2019), # Curve starting date\n",
    "    \"Cash\":{ (1,ql.Months): 0.018325,\n",
    "             (3,ql.Months): 0.019026,\n",
    "             (6,ql.Months): 0.019185,\n",
    "           },\n",
    "    \"Future\":{ # IMM dates can be automated using above functions\n",
    "               # For clearly here I keep it as inputs date values\n",
    "               ql.Date(18,12,2019): 98.1125,\n",
    "               ql.Date(18,3,2020): 98.325,\n",
    "               ql.Date(17,6,2020): 98.415,\n",
    "               ql.Date(16,9,2020): 98.49,\n",
    "               ql.Date(16,9,2020): 98.49,\n",
    "               ql.Date(16,9,2020): 98.55,\n",
    "             },\n",
    "    \"Swap\":{  (2,ql.Years): 0.01604,\n",
    "              (3,ql.Years): 0.0157,\n",
    "              (4,ql.Years): 0.01567,\n",
    "              (5,ql.Years): 0.015785,\n",
    "              (6,ql.Years): 0.01597,\n",
    "              (7,ql.Years): 0.0162,\n",
    "              (8,ql.Years): 0.016475,\n",
    "              (9,ql.Years): 0.01677,\n",
    "              (10,ql.Years): 0.01705,\n",
    "              (11,ql.Years): 0.017315,\n",
    "              (12,ql.Years): 0.01756,\n",
    "              (15,ql.Years): 0.01811,\n",
    "              (20,ql.Years): 0.01869,\n",
    "              (25,ql.Years): 0.0189,\n",
    "              (30,ql.Years): 0.018932,\n",
    "              (40,ql.Years): 0.01873,\n",
    "            },\n",
    "    }\n",
    "# Generate USE LIBOR yield curve with TermStructure object\n",
    "base_yts = Bootstrapping(Mkt_dict, Con_dict)\n",
    "hyts = ql.RelinkableYieldTermStructureHandle(base_yts) # Build discounting curve into a term structure"
   ]
  },
  {
   "cell_type": "code",
   "execution_count": 42,
   "metadata": {},
   "outputs": [
    {
     "name": "stdout",
     "output_type": "stream",
     "text": [
      "Current Date=November 18th, 2019,NPV=-601.4639143265667\n",
      "DV01=659.4635242130645\n"
     ]
    }
   ],
   "source": [
    "# Swap object defined as a dictionary with float leg and fixed leg\n",
    "# Inorder to advance date in Quantlib we have to use a calender object\n",
    "t_calendar = ql.UnitedStates()\n",
    "settle_date = ql.Date(1, 12, 2019)\n",
    "maturity_date = ql.Date(1, 12, 2026)\n",
    "LiborXm = ql.USDLibor(ql.Period(3, ql.Months),hyts)\n",
    "V_Swap_Dict = {\n",
    "    \"Type\":ql.VanillaSwap.Payer,\n",
    "    \"Notional\":1000000,\n",
    "    \"Fixed_Leg\":{\n",
    "        \"fixedSchedule\":ql.Schedule( settle_date, \n",
    "                                     maturity_date, \n",
    "                                     ql.Period(6, ql.Months), ql.UnitedStates(),\n",
    "                                     ql.ModifiedFollowing, ql.ModifiedFollowing,\n",
    "                                     ql.DateGeneration.Forward, False),\n",
    "        \"fixedRate\":0.0162, # Approx. ATM swap\n",
    "        \"fixedDayCount\":ql.Thirty360(),\n",
    "    },\n",
    "    \"Float_Leg\":{\n",
    "        \"floatSchedule\": ql.Schedule( settle_date, \n",
    "                                      maturity_date, \n",
    "                                      ql.Period(3, ql.Months), ql.UnitedStates(),\n",
    "                                      ql.ModifiedFollowing, ql.ModifiedFollowing,\n",
    "                                      ql.DateGeneration.Forward, False),\n",
    "        \"index\":LiborXm,\n",
    "        \"spread\":0,\n",
    "        \"floatingDayCount\":ql.Actual360(),\n",
    "    },\n",
    "}\n",
    "swap_test = ql.VanillaSwap(  V_Swap_Dict[\"Type\"], \n",
    "                             V_Swap_Dict[\"Notional\"], \n",
    "                             V_Swap_Dict[\"Fixed_Leg\"][\"fixedSchedule\"], \n",
    "                             V_Swap_Dict[\"Fixed_Leg\"][\"fixedRate\"], \n",
    "                             V_Swap_Dict[\"Fixed_Leg\"][\"fixedDayCount\"], \n",
    "                             V_Swap_Dict[\"Float_Leg\"][\"floatSchedule\"],\n",
    "                             V_Swap_Dict[\"Float_Leg\"][\"index\"],\n",
    "                             V_Swap_Dict[\"Float_Leg\"][\"spread\"], \n",
    "                             V_Swap_Dict[\"Float_Leg\"][\"floatingDayCount\"] )\n",
    "swap_engine = ql.DiscountingSwapEngine(hyts)\n",
    "swap_test.setPricingEngine(swap_engine)\n",
    "hyts.linkTo(base_yts)\n",
    "ql.Settings.instance().evaluationDate = Mkt_dict[\"SDate\"]\n",
    "print(\"Current Date={:},NPV={:}\".format(Mkt_dict[\"SDate\"],swap_test.NPV()))\n",
    "DV01 = abs(swap_test.fixedLegBPS())\n",
    "print('DV01={}'.format(DV01))"
   ]
  },
  {
   "cell_type": "code",
   "execution_count": 43,
   "metadata": {
    "collapsed": true
   },
   "outputs": [],
   "source": [
    "#Helper function to apply spread on a given yield curve\n",
    "def get_shock_delta( swap_obj, yts_cur, hyts_cur,\n",
    "                     start_y, end_y, bps ):\n",
    "    if end_y<start_y:\n",
    "        print(\"Wrong time window! Return 0...\")\n",
    "        return 0\n",
    "    Current_NPV = swap_obj.NPV() # Remember current NPV\n",
    "    nodes = list(range(1,31))  # the durations\n",
    "    dates = [ Mkt_dict[\"SDate\"] + ql.Period(n, ql.Years) for n in nodes ]\n",
    "    spreads = [ ql.SimpleQuote(0.0) for n in nodes ] # null spreads to begin\n",
    "    krd_curve = ql.SpreadedLinearZeroInterpolatedTermStructure( \n",
    "                    ql.YieldTermStructureHandle(yts_cur),\n",
    "                    [ql.QuoteHandle(q) for q in spreads],\n",
    "                    dates )\n",
    "    hyts_cur.linkTo(krd_curve)\n",
    "    for tt in spreads: # Clear current settings\n",
    "        tt.setValue(0.0)\n",
    "    delta = bps/(end_y-start_y)/10000\n",
    "    for i in range(start_y-1,30):\n",
    "        spreads[i].setValue((i-start_y+1)*delta)\n",
    "    delta_val = Current_NPV-swap_obj.NPV()\n",
    "    for tt in spreads: # Clear current settings\n",
    "        tt.setValue(0.0)\n",
    "    return delta_val\n",
    "\n",
    "def get_convex_delta( swap_obj, yts_cur, hyts_cur,\n",
    "                     start_y, middle_y, end_y, bps ):\n",
    "    if end_y<start_y:\n",
    "        print(\"Wrong time window! Return 0...\")\n",
    "        return 0\n",
    "    Current_NPV = swap_obj.NPV() # Remember current NPV\n",
    "    nodes = list(range(1,31))  # the durations\n",
    "    dates = [ Mkt_dict[\"SDate\"] + ql.Period(n, ql.Years) for n in nodes ]\n",
    "    spreads = [ ql.SimpleQuote(0.0) for n in nodes ] # null spreads to begin\n",
    "    krd_curve = ql.SpreadedLinearZeroInterpolatedTermStructure( \n",
    "                    ql.YieldTermStructureHandle(yts_cur),\n",
    "                    [ql.QuoteHandle(q) for q in spreads],\n",
    "                    dates )\n",
    "    hyts_cur.linkTo(krd_curve)\n",
    "    for tt in spreads: # Clear current settings\n",
    "        tt.setValue(0.0)\n",
    "    delta = bps/(middle_y-start_y)/10000\n",
    "    for i in range(start_y,middle_y):\n",
    "        spreads[i].setValue((i-start_y)*delta)\n",
    "    for i in range(middle_y,end_y):\n",
    "        spreads[i].setValue((end_y-i)*delta)\n",
    "    delta_val = Current_NPV-swap_obj.NPV()\n",
    "    for tt in spreads: # Clear current settings\n",
    "        tt.setValue(0.0)\n",
    "    return delta_val"
   ]
  },
  {
   "cell_type": "code",
   "execution_count": 44,
   "metadata": {
    "scrolled": true
   },
   "outputs": [
    {
     "name": "stdout",
     "output_type": "stream",
     "text": [
      "Curve Steepening Impact = -7099.845956584715\n",
      "Curve Flatterning Impact = 7154.082922740505\n",
      "Curve Convex Up = -15872.618046393545\n",
      "Curve Convex Down = 16144.709053909217\n"
     ]
    }
   ],
   "source": [
    "# Example for stress shocking \n",
    "start = 2\n",
    "end   = 30\n",
    "shift = 60\n",
    "hyts.linkTo(base_yts)\n",
    "delta = get_shock_delta( swap_test, base_yts, hyts, \n",
    "                         start,  end, shift )\n",
    "print(\"Curve Steepening Impact = {:}\".format(delta))\n",
    "shift = -60\n",
    "hyts.linkTo(base_yts)\n",
    "delta = get_shock_delta( swap_test, base_yts, hyts, \n",
    "                         start,  end, shift )\n",
    "print(\"Curve Flatterning Impact = {:}\".format(delta))\n",
    "start = 0\n",
    "middle = 15\n",
    "end   = 30\n",
    "shift = 60\n",
    "hyts.linkTo(base_yts)\n",
    "delta = get_convex_delta( swap_test, base_yts, hyts, \n",
    "                          start, middle, end, shift )\n",
    "print(\"Curve Convex Up = {:}\".format(delta))\n",
    "start = 0\n",
    "middle = 15\n",
    "end   = 30\n",
    "shift = -60\n",
    "hyts.linkTo(base_yts)\n",
    "delta = get_convex_delta( swap_test, base_yts, hyts, \n",
    "                          start, middle, end, shift )\n",
    "print(\"Curve Convex Down = {:}\".format(delta))\n"
   ]
  },
  {
   "cell_type": "markdown",
   "metadata": {},
   "source": [
    "## Summary\n",
    "\n",
    "In this workbook, I detailed how to calcualte VaR using Duration(Variance-Covariance) method nad Monte-Carlo simulation method. The most portion of this comes from simulation method which needs us calibrate short rate model first. The key point of model calibration please refer to my previous post in shortrate model. There are serveal key points when actually using this method to calculate VaR:\n",
    "\n",
    "<span>\n",
    "<font color='blue'>\n",
    "\n",
    "- When we calibrate short rate model please notice the acutal swaption volatility inputs should in line with swap maturity. In this way we can make sure the expectation of swap pricing is equal to actual swap price.\n",
    "\n",
    "- After model calibration, we also need reconstruct discounting curves as if those curves starting today. This is a huge difference compared to CVA calculation. In CVA calculation, we are using simulated curves as if they are on the date simulated. However, in this case, we have to simulated them as if they are starting from today. Since all we need from simulation is a set of possible NPVs.\n",
    "\n",
    "- The biggest differnce between simulation method and duration method of VaR comes from the assumption that duration method assumes a pro-rata scale of VaR. For example, the difference between 1D VaR and 100DVaR is only a factor of 10. But the actual rates movements also includes correlations which makes this simple scale does not work. On the other hand, Monte-Carlo simulation method can incorprate this correlations in the termstructure simulations. For a 100D VaR we are actually simulating a set of curves that possibly could happend in 100Days.\n",
    "\n",
    "</span>"
   ]
  }
 ],
 "metadata": {
  "kernelspec": {
   "display_name": "Python 3",
   "language": "python",
   "name": "python3"
  },
  "language_info": {
   "codemirror_mode": {
    "name": "ipython",
    "version": 3
   },
   "file_extension": ".py",
   "mimetype": "text/x-python",
   "name": "python",
   "nbconvert_exporter": "python",
   "pygments_lexer": "ipython3",
   "version": "3.6.1"
  }
 },
 "nbformat": 4,
 "nbformat_minor": 2
}
