{
 "cells": [
  {
   "cell_type": "markdown",
   "metadata": {},
   "source": [
    "# SwapPricing Workbook\n",
    "--- Nov-19-2019, Alan, Shaolun.du@gmail.com\n",
    "\n",
    "This is a detailed documentation on Swap Pricing. In the following, I will go over three different types of swaps and detailed on how to price them with QuantLib, in the end I will talk about how to make the pricing to take customized amortization sechdule, which is useful for corporate hedging solutions: \n",
    "\n",
    "- Vanilla swap: Basic floating v.s. fixed swap same currency.\n",
    "- XCS(cross currency swap): Basic floating v.s. fixed swap different currency.\n",
    "- Basis swap: Floating v.s. Floating swap with different rate index same currency.\n",
    "\n",
    "After pricing, I will go over the proceduer to generate a full set of risk matrics for a single swap. They are: DV01, PV01, KRDs with key years points. Forward cash flow changes and NPV changes when curve shocked. (This will include some of the curve shcoking method that is quiet useful in stress testing.)\n",
    "\n",
    "*** NOTE: I will use USD curve as an example going forward, and I will talk about how to get other major currency curves as variantion to USD curves in the end. For XCS pricing, I will use USD/EUR cross currency swap as example.***"
   ]
  },
  {
   "cell_type": "markdown",
   "metadata": {
    "collapsed": true
   },
   "source": [
    "## 1 - Vanilla Swap Pricing\n",
    "\n",
    "To start, please import the library:"
   ]
  },
  {
   "cell_type": "code",
   "execution_count": 1,
   "metadata": {
    "collapsed": true
   },
   "outputs": [],
   "source": [
    "import math\n",
    "import numpy as np\n",
    "import QuantLib as ql\n",
    "import matplotlib.pyplot as plt\n",
    "%matplotlib inline"
   ]
  },
  {
   "cell_type": "code",
   "execution_count": 2,
   "metadata": {
    "collapsed": true
   },
   "outputs": [],
   "source": [
    "# Helper function for curve building please refer to previous post\n",
    "# Pull out a yield curve for pricing\n",
    "# Details please refer to previous workbook, we will use USD LIBOR curve here.\n",
    "Con_dict = {\n",
    "# All details listed here is directly from the market instruments\n",
    "# If changed to another sets of market instruments please update details here!\n",
    "    \"Cash\":{ \"DayCount\":ql.Actual360(),\n",
    "             \"EOM\":False, # Check if end of month please change correspondingly\n",
    "             \"BsDay\":ql.ModifiedFollowing,\n",
    "             \"Calendar\":ql.UnitedStates(),\n",
    "             \"SettlementDays\": 2, # Settlement shift after fixing\n",
    "           },\n",
    "    \"Future\":{ \"DayCount\":ql.Actual360(),\n",
    "               \"EOM\":False, # Check if end of month please change correspondingly\n",
    "               \"BsDay\":ql.ModifiedFollowing,\n",
    "               \"ConVes_Adj\":ql.QuoteHandle(ql.SimpleQuote(0.0)),# For convexity adjustment\n",
    "               \"Calendar\":ql.UnitedStates(),\n",
    "               \"SettlementDays\": 2, # Settlement shift after fixing\n",
    "               \"LengthInMonths\": 3,\n",
    "             },\n",
    "    \"Swap\":{  \"Index\":ql.USDLibor(ql.Period(3,ql.Months)), # Floating Leg index rate\n",
    "              \"FloatingLegTenor\":ql.Period(3,ql.Months),\n",
    "              \"FloatingLegFrequency\":ql.Quarterly,\n",
    "              \"FloatingLegAdjustment\":ql.ModifiedFollowing,\n",
    "              \"FloatingLegDayCounter\":ql.Actual360(),\n",
    "              \"FixedLegFrequency\":ql.Semiannual,\n",
    "              \"FixedLegTenor\":ql.Period(6,ql.Months),\n",
    "              \"FixedLegAdjustment\":ql.ModifiedFollowing,\n",
    "              \"FixedLegDayCounter\":ql.Thirty360(),\n",
    "              \"SettlementDays\": 2, # Settlement shift after fixing\n",
    "              \"Calendar\":ql.UnitedStates(),\n",
    "            },\n",
    "}\n",
    "Mkt_dict = {\n",
    "    \"SDate\": ql.Date(18,11,2019), # Curve starting date\n",
    "    \"Cash\":{ (1,ql.Months): 0.018325,\n",
    "             (3,ql.Months): 0.019026,\n",
    "             (6,ql.Months): 0.019185,\n",
    "           },\n",
    "    \"Future\":{ # IMM dates can be automated using above functions\n",
    "               # For clearly here I keep it as inputs date values\n",
    "               ql.Date(18,12,2019): 98.1125,\n",
    "               ql.Date(18,3,2020): 98.325,\n",
    "               ql.Date(17,6,2020): 98.415,\n",
    "               ql.Date(16,9,2020): 98.49,\n",
    "               ql.Date(16,9,2020): 98.49,\n",
    "               ql.Date(16,9,2020): 98.55,\n",
    "             },\n",
    "    \"Swap\":{  (2,ql.Years): 0.01604,\n",
    "              (3,ql.Years): 0.0157,\n",
    "              (4,ql.Years): 0.01567,\n",
    "              (5,ql.Years): 0.015785,\n",
    "              (6,ql.Years): 0.01597,\n",
    "              (7,ql.Years): 0.0162,\n",
    "              (8,ql.Years): 0.016475,\n",
    "              (9,ql.Years): 0.01677,\n",
    "              (10,ql.Years): 0.01705,\n",
    "              (11,ql.Years): 0.017315,\n",
    "              (12,ql.Years): 0.01756,\n",
    "              (15,ql.Years): 0.01811,\n",
    "              (20,ql.Years): 0.01869,\n",
    "              (25,ql.Years): 0.0189,\n",
    "              (30,ql.Years): 0.018932,\n",
    "              (40,ql.Years): 0.01873,\n",
    "            },\n",
    "}\n",
    "def Bootstrapping( Market, Convention ):\n",
    "    sDate = Market[\"SDate\"]\n",
    "    ql.Settings.instance().evaluationDate = sDate\n",
    "    # Convert market quotes into QuantLib \"Quote objects\"\n",
    "    deposits = Market[\"Cash\"]\n",
    "    futures  = Market[\"Future\"]\n",
    "    swaps    = Market[\"Swap\"]\n",
    "    deposits_con  = Convention[\"Cash\"]\n",
    "    futuresc_con  = Convention[\"Future\"]\n",
    "    swaps_con     = Convention[\"Swap\"]\n",
    "    for n,unit in deposits.keys():\n",
    "        deposits[(n,unit)] = ql.SimpleQuote(deposits[(n,unit)])\n",
    "    for d in futures.keys():\n",
    "        futures[d] = ql.SimpleQuote(futures[d])\n",
    "    for n,unit in swaps.keys():\n",
    "        swaps[(n,unit)] = ql.SimpleQuote(swaps[(n,unit)])\n",
    "    # Build up helpers for curve building\n",
    "    depositHelpers = [ ql.DepositRateHelper( ql.QuoteHandle(deposits[(n,unit)]),\n",
    "                                             ql.Period(n,unit), deposits_con[\"SettlementDays\"],\n",
    "                                             deposits_con[\"Calendar\"], deposits_con[\"BsDay\"],\n",
    "                                             deposits_con[\"EOM\"], deposits_con[\"DayCount\"])\n",
    "                       for n, unit in deposits.keys() ]\n",
    "    futuresHelpers = [ ql.FuturesRateHelper( ql.QuoteHandle(futures[d]),\n",
    "                                             d, futuresc_con[\"LengthInMonths\"],\n",
    "                                             futuresc_con[\"Calendar\"], futuresc_con[\"BsDay\"],\n",
    "                                             futuresc_con[\"EOM\"], futuresc_con[\"DayCount\"],\n",
    "                                             futuresc_con[\"ConVes_Adj\"])\n",
    "                       for d in futures.keys() ]\n",
    "    swapHelpers = [ ql.SwapRateHelper( ql.QuoteHandle(swaps[(n,unit)]),\n",
    "                                       ql.Period(n,unit), swaps_con[\"Calendar\"],\n",
    "                                       swaps_con[\"FixedLegFrequency\"], swaps_con[\"FixedLegAdjustment\"],\n",
    "                                       swaps_con[\"FixedLegDayCounter\"], swaps_con[\"Index\"])\n",
    "                    for n, unit in swaps.keys() ]\n",
    "    # term-structure construction\n",
    "    helpers = depositHelpers + futuresHelpers + swapHelpers # Helpers combined\n",
    "    yts = ql.PiecewiseFlatForward( sDate, helpers, ql.Actual360()) # Forward curve defination\n",
    "    yts.enableExtrapolation()\n",
    "    return yts"
   ]
  },
  {
   "cell_type": "code",
   "execution_count": 3,
   "metadata": {
    "collapsed": true
   },
   "outputs": [],
   "source": [
    "# Generate USE LIBOR yield curve with TermStructure object\n",
    "yts = Bootstrapping(Mkt_dict, Con_dict)\n",
    "hyts = ql.RelinkableYieldTermStructureHandle(yts) # Build discounting curve into a term structure\n",
    "f_hyts = ql.RelinkableYieldTermStructureHandle(yts) # Build forward curve term structure"
   ]
  },
  {
   "cell_type": "markdown",
   "metadata": {},
   "source": [
    "To construct a VanillaSwap, we have to invoke VanillaSwap module and pre-setup its fixed leg and floating leg. See below:"
   ]
  },
  {
   "cell_type": "code",
   "execution_count": 4,
   "metadata": {
    "collapsed": true
   },
   "outputs": [],
   "source": [
    "# Swap object defined as a dictionary with float leg and fixed leg\n",
    "# Inorder to advance date in Quantlib we have to use a calender object\n",
    "t_calendar = ql.UnitedStates()\n",
    "settle_date = ql.Date(18, 11, 2021)\n",
    "maturity_date = ql.Date(18, 11, 2026)\n",
    "LiborXm = ql.USDLibor(ql.Period(3, ql.Months),hyts)\n",
    "V_Swap_Dict = {\n",
    "    \"Type\":ql.VanillaSwap.Payer,\n",
    "    \"Notional\":100000000,\n",
    "    \"Fixed_Leg\":{\n",
    "        \"fixedSchedule\":ql.Schedule( settle_date, \n",
    "                                     maturity_date, \n",
    "                                     ql.Period(6, ql.Months), ql.UnitedStates(),\n",
    "                                     ql.ModifiedFollowing, ql.ModifiedFollowing,\n",
    "                                     ql.DateGeneration.Forward, False),\n",
    "        \"fixedRate\":0.02,\n",
    "        \"fixedDayCount\":ql.Thirty360(),\n",
    "    },\n",
    "    \"Float_Leg\":{\n",
    "        \"floatSchedule\": ql.Schedule( settle_date, \n",
    "                                      maturity_date, \n",
    "                                      ql.Period(3, ql.Months), ql.UnitedStates(),\n",
    "                                      ql.ModifiedFollowing, ql.ModifiedFollowing,\n",
    "                                      ql.DateGeneration.Forward, False),\n",
    "        \"index\":LiborXm,\n",
    "        \"spread\":0,\n",
    "        \"floatingDayCount\":ql.Actual360(),\n",
    "    },\n",
    "}\n",
    "V_Swap = ql.VanillaSwap( V_Swap_Dict[\"Type\"], \n",
    "                         V_Swap_Dict[\"Notional\"], \n",
    "                         V_Swap_Dict[\"Fixed_Leg\"][\"fixedSchedule\"], \n",
    "                         V_Swap_Dict[\"Fixed_Leg\"][\"fixedRate\"], \n",
    "                         V_Swap_Dict[\"Fixed_Leg\"][\"fixedDayCount\"], \n",
    "                         V_Swap_Dict[\"Float_Leg\"][\"floatSchedule\"],\n",
    "                         V_Swap_Dict[\"Float_Leg\"][\"index\"],\n",
    "                         V_Swap_Dict[\"Float_Leg\"][\"spread\"], \n",
    "                         V_Swap_Dict[\"Float_Leg\"][\"floatingDayCount\"] )"
   ]
  },
  {
   "cell_type": "markdown",
   "metadata": {},
   "source": [
    "Pricing this vanilla swap and generate a set of risks factors."
   ]
  },
  {
   "cell_type": "code",
   "execution_count": 5,
   "metadata": {},
   "outputs": [
    {
     "name": "stdout",
     "output_type": "stream",
     "text": [
      "Swap NPV=-1733524.4255623668\n",
      "Swap Fair Rate=0.01626321319210249\n"
     ]
    }
   ],
   "source": [
    "# Simple resules\n",
    "swap_engine = ql.DiscountingSwapEngine(hyts)\n",
    "V_Swap.setPricingEngine(swap_engine)\n",
    "print(\"Swap NPV={}\".format(V_Swap.NPV()))\n",
    "print(\"Swap Fair Rate={}\".format(V_Swap.fairRate()))"
   ]
  },
  {
   "cell_type": "markdown",
   "metadata": {},
   "source": [
    "## 1 - a Vanilla Swap Pricing Testing\n",
    "\n",
    "The basic logic to validate a swa pricing is almost the same as if to valid a curve.\n",
    "We will input all market instruments when bootstrap and see if the result is close enough with just pricing on this curve.\n",
    "\n",
    "Below let me introduce a helper function to generate a set of testing swaps:"
   ]
  },
  {
   "cell_type": "markdown",
   "metadata": {},
   "source": [
    "***NOTE***:\n",
    "1. When implementing swap object, the floating leg needs to connect with actual term structure we are using. In the below example, we are using market curve built from cash rates, future rates and swap rates. the curve afterwards generated as a termstructure handler 'hyts = ql.YieldTermStructureHandle(yts)' and been settled into floating leg index see 'ql.USDLibor(ql.Period(3,ql.Months),hyts)'.\n",
    "2. For most of the swap traded in the market, the settlement date always T+2, meaning after trade confirmed it still needs 2 buisness day to actually settle the trade.\n",
    "3. This example I am not considering the amortization sechdule which always different when doing interests hedging buisness. Later in this workbook, I will talk about how to handle the amortization schedule properly."
   ]
  },
  {
   "cell_type": "code",
   "execution_count": null,
   "metadata": {
    "collapsed": true
   },
   "outputs": [],
   "source": [
    "# Swap test helper\n",
    "def Test_helper( inst ):\n",
    "    swap_li = []\n",
    "    for ele in inst.keys():\n",
    "        t_calendar = ql.UnitedStates()\n",
    "        settle_date = t_calendar.advance(Mkt_dict[\"SDate\"], 2, ql.Days)\n",
    "        maturity_date = t_calendar.advance(settle_date, ele[0], ql.Years)\n",
    "        V_Swap_Dict = {\n",
    "            \"Type\":ql.VanillaSwap.Payer,\n",
    "            \"Notional\":100000000,\n",
    "            \"Fixed_Leg\":{\n",
    "                \"fixedSchedule\":ql.Schedule( settle_date, \n",
    "                                             maturity_date, \n",
    "                                             ql.Period(6, ql.Months), ql.UnitedStates(),\n",
    "                                             ql.ModifiedFollowing, ql.ModifiedFollowing,\n",
    "                                             ql.DateGeneration.Forward, False),\n",
    "                \"fixedRate\":inst[ele],\n",
    "                \"fixedDayCount\":ql.Thirty360(),\n",
    "            },\n",
    "            \"Float_Leg\":{\n",
    "                \"floatSchedule\": ql.Schedule( settle_date, \n",
    "                                              maturity_date, \n",
    "                                              ql.Period(3, ql.Months), ql.UnitedStates(),\n",
    "                                              ql.ModifiedFollowing, ql.ModifiedFollowing,\n",
    "                                              ql.DateGeneration.Forward, False),\n",
    "                \"index\":ql.USDLibor(ql.Period(3,ql.Months),hyts),\n",
    "                \"spread\":0,\n",
    "                \"floatingDayCount\":ql.Actual360(),\n",
    "            },\n",
    "        }\n",
    "        V_Swap = ql.VanillaSwap( V_Swap_Dict[\"Type\"], V_Swap_Dict[\"Notional\"], V_Swap_Dict[\"Fixed_Leg\"][\"fixedSchedule\"], \n",
    "                                 V_Swap_Dict[\"Fixed_Leg\"][\"fixedRate\"], V_Swap_Dict[\"Fixed_Leg\"][\"fixedDayCount\"], \n",
    "                                 V_Swap_Dict[\"Float_Leg\"][\"floatSchedule\"],\n",
    "                                 V_Swap_Dict[\"Float_Leg\"][\"index\"],\n",
    "                                 V_Swap_Dict[\"Float_Leg\"][\"spread\"], V_Swap_Dict[\"Float_Leg\"][\"floatingDayCount\"] )\n",
    "        swap_li.append(V_Swap)\n",
    "    return swap_li"
   ]
  },
  {
   "cell_type": "code",
   "execution_count": null,
   "metadata": {
    "collapsed": true
   },
   "outputs": [],
   "source": [
    "# Testing for curve validation\n",
    "Testing_Ins = {\n",
    "    (2,ql.Years): 0.01604,\n",
    "    (3,ql.Years): 0.0157,\n",
    "    (4,ql.Years): 0.01567,\n",
    "    (5,ql.Years): 0.015785,\n",
    "    (6,ql.Years): 0.01597,\n",
    "    (7,ql.Years): 0.0162,\n",
    "    (8,ql.Years): 0.016475,\n",
    "    (9,ql.Years): 0.01677,\n",
    "    (10,ql.Years): 0.01705,\n",
    "    (11,ql.Years): 0.017315,\n",
    "    (12,ql.Years): 0.01756,\n",
    "    (15,ql.Years): 0.01811,\n",
    "    (20,ql.Years): 0.01869,\n",
    "}\n",
    "testers = Test_helper(Testing_Ins)\n",
    "Errors = []\n",
    "Rates  = []\n",
    "swap_engine = ql.DiscountingSwapEngine(hyts)\n",
    "for swap_test in testers:\n",
    "    swap_test.setPricingEngine(swap_engine)\n",
    "    Errors.append(swap_test.NPV())\n",
    "    Rates.append(swap_test.fairRate())\n",
    "print(\"###---Test case one---###\")\n",
    "print(\"Swap with Par Swap rate should have NPV=0:\")\n",
    "print(Errors)\n",
    "print(\"Mean Error={}\".format(np.mean(Errors)))\n",
    "print(\"###---Test case two---###\")\n",
    "print(\"back Solve Par swap rate should be close to Actual Par Swap rate:\")\n",
    "act_rate = [Testing_Ins[key] for key in Testing_Ins.keys()]\n",
    "Rate_error = [ele1-ele2 for ele1,ele2 in zip(act_rate,Rates)]\n",
    "print(Rate_error)\n",
    "print(\"Mean Rates Error={}\".format(np.mean(Rate_error)))\n"
   ]
  },
  {
   "cell_type": "markdown",
   "metadata": {},
   "source": [
    "## 1 - b More on Swap Pricing"
   ]
  },
  {
   "cell_type": "markdown",
   "metadata": {
    "collapsed": true
   },
   "source": [
    "***With this example***: Before get involved into cross currency swap and basis swap, let's dig a little bit more into the QuantLib Swap pricing engine. I will walk you through the followings:\n",
    "1. How to change pricing date, inorder to generate a potential exposure given current yield curve.\n",
    "2. How to generate a full set of Risk Metrics includes: DV01, KRDs.\n",
    "3. How to do curve shocking and generate delta projected cash flow as well as delta values.\n",
    "4. How to use custormized amortization schedule."
   ]
  },
  {
   "cell_type": "code",
   "execution_count": null,
   "metadata": {
    "collapsed": true
   },
   "outputs": [],
   "source": [
    "# How to change pricing date into a date in the future\n",
    "Pricing_Date = ql.Date(18,11,2021)\n",
    "# In order to price swap in the future\n",
    "#    we need to add Libor fixing date into YieldTermStructure\n",
    "#    For all floating fixing date\n",
    "#    Here we will add another row into V_Swap_Dict to get all libor fixing dates\n",
    "###--- Get all flaoting leg fixing date ---###\n",
    "fixing_date = [V_Swap_Dict[\"Float_Leg\"][\"index\"].fixingDate(x) for x in V_Swap_Dict[\"Float_Leg\"][\"floatSchedule\"]][:-1]\n",
    "for loc in range(len(fixing_date)-1):\n",
    "        if fixing_date[loc] <= Pricing_Date:\n",
    "            fixing = V_Swap_Dict[\"Float_Leg\"][\"index\"].fixing(fixing_date[loc])\n",
    "            V_Swap_Dict[\"Float_Leg\"][\"index\"].addFixing(fixing_date[loc],fixing)\n",
    "# After fixing forward LIBOR we are now safe to change valuation date below:\n",
    "ql.Settings.instance().evaluationDate = Pricing_Date\n",
    "print(V_Swap.NPV())"
   ]
  },
  {
   "cell_type": "markdown",
   "metadata": {},
   "source": [
    "***1-b-1: About Forward Exposure Path***: With above method, let's try to generate a full forward NPV path for this example swap. This type of calcualtion will be extremely useful when we move to the topic about XVA calculation which will need us to use projected future NPV path to get exposure calculation.\n",
    "\n",
    "* For a sawp NPV it should decrease value in terms of absolute value when time past. For example, the below graph starting from a negative value (meaning current swap is out of money) the nas time past by its value getting closer to zero until it is maturitied.\n",
    "* If working in C++ there will be another parameter in addFixing(date,fixing, Overwrite?) inorder to force overwrite fixing data. However, in python there is no such option. What I can do here is to gradually adding in those fixing dates as we are calculating future exposure.\n",
    "* There might be an issue since the output graph does not end at zero which in theory it should be."
   ]
  },
  {
   "cell_type": "code",
   "execution_count": 6,
   "metadata": {},
   "outputs": [
    {
     "data": {
      "text/plain": [
       "<matplotlib.axes._subplots.AxesSubplot at 0x1b6809e8>"
      ]
     },
     "execution_count": 6,
     "metadata": {},
     "output_type": "execute_result"
    },
    {
     "data": {
      "image/png": "[encoded data removed]",
      "text/plain": [
       "<matplotlib.figure.Figure at 0x1b6800b8>"
      ]
     },
     "metadata": {},
     "output_type": "display_data"
    }
   ],
   "source": [
    "# Wrapup the above process into a forward value calcualtion function\n",
    "from matplotlib import pyplot as plt\n",
    "import pandas as pd\n",
    "ql.IndexManager.instance().clearHistory(LiborXm.name())\n",
    "LiborXm = ql.USDLibor(ql.Period(3, ql.Months),hyts)\n",
    "NPV_li = []\n",
    "MAX_year = 10\n",
    "today = ql.Date(18,11,2019)\n",
    "timegrid = [ today + ql.Period(i*2, ql.Months) for i in range(6*MAX_year) ]\n",
    "timegrid += [LiborXm.fixingDate(x) for x in V_Swap_Dict[\"Float_Leg\"][\"floatSchedule\"]]\n",
    "timegrid = np.sort(np.unique(timegrid)) # merge fixing date and pricing date\n",
    "for date in timegrid:\n",
    "    # Step 0: change setting date\n",
    "    ql.Settings.instance().evaluationDate = date\n",
    "    # Step 1: adding fixing date\n",
    "    if LiborXm.isValidFixingDate(date) and date > today:\n",
    "        fixing = LiborXm.fixing(date)\n",
    "        LiborXm.addFixing(date,fixing)\n",
    "    # Step 2: get NPV\n",
    "    NPV = V_Swap.NPV()\n",
    "    NPV_li.append({\"Date\":date,\"NPV\":NPV})\n",
    "df = pd.DataFrame(NPV_li).set_index(\"Date\")\n",
    "df.plot()"
   ]
  },
  {
   "cell_type": "markdown",
   "metadata": {},
   "source": [
    "***1-b-2:Risk Metrics Calculation***: DV01 and KRDs, those basic type of risk metrics are not directly provided by QuantLib. In the following, I will walk you through how to use curve shocking method to generate all risk metrics. Let's start with DV01 and then implement KRD_Y year."
   ]
  },
  {
   "cell_type": "code",
   "execution_count": null,
   "metadata": {
    "collapsed": true
   },
   "outputs": [],
   "source": [
    "# DV01 Calculation using curve shocking method\n",
    "# Fixed-rate receiver is long a bond with coupon S and Floater has no risk;\n",
    "# Therefore DV01 is fixed leg BPS\n",
    "DV01 = abs(V_Swap.fixedLegBPS())\n",
    "print('DV01={}'.format(DV01))"
   ]
  },
  {
   "cell_type": "code",
   "execution_count": null,
   "metadata": {
    "collapsed": true
   },
   "outputs": [],
   "source": [
    "# To calculate KRDs we will use key rate point with shokcing curves\n",
    "nodes = [ 1, 2, 3, 5, 7, 10, 12, 15, 20, 25, 30 ]  # the durations\n",
    "dates = [ Mkt_dict[\"SDate\"] + ql.Period(n, ql.Years) for n in nodes ]\n",
    "spreads = [ ql.SimpleQuote(0.0) for n in nodes ] # null spreads to begin\n",
    "krd_curve = ql.SpreadedLinearZeroInterpolatedTermStructure( \n",
    "                ql.YieldTermStructureHandle(yts),\n",
    "                [ql.QuoteHandle(q) for q in spreads],\n",
    "                dates )\n",
    "hyts.linkTo(krd_curve)\n",
    "KRDs = {}\n",
    "Current_NPV = V_Swap.NPV() # Remember current NPV\n",
    "for ele,dtt in zip(spreads,nodes):\n",
    "    for tt in spreads: # Clear current settings\n",
    "        tt.setValue(0.0)\n",
    "    ele.setValue(0.0001) # Set shocking 1bps\n",
    "    KRDs[dtt]=V_Swap.NPV()-Current_NPV\n",
    "print(KRDs)\n",
    "# Quick test with sum of KRDs to DV01\n",
    "KRD_sum = sum([val for k,val in KRDs.items()])\n",
    "\n",
    "print(\"---Compare to DV01---\")\n",
    "print(\"DV01={},SumKRDs={},Diff={}\".format(DV01,KRD_sum,DV01-KRD_sum))\n",
    "\n",
    "# Scenrio analysis\n",
    "# Shock the curve by 0 bps at 2 year and 10 bps at 5 year and going forward\n",
    "# This is a typical curve steepening shock from Y2 to Y5\n",
    "# NOTE: Later on we will write a function for this type of functioning\n",
    "for tt in spreads: # Clear current settings\n",
    "    tt.setValue(0.0)\n",
    "spreads[2].setValue(0.0003)\n",
    "for i in range(3,11):\n",
    "    spreads[i].setValue(0.0010)\n",
    "print(\"Steepening Y2 to Y5 Delta={}\".format(V_Swap.NPV()-Current_NPV))"
   ]
  },
  {
   "cell_type": "markdown",
   "metadata": {},
   "source": [
    "***Stress Testing Shocking Function***: This shocking function designed for less than 30 years different type of curve shocking analysis. One can also do convexity shock or any type of customized shocking. In this example I only list out steepening/flatening shock."
   ]
  },
  {
   "cell_type": "code",
   "execution_count": null,
   "metadata": {
    "collapsed": true
   },
   "outputs": [],
   "source": [
    "def get_shock_delta( swap_obj, yts_cur, hyts_cur,\n",
    "                     start_y, end_y, bps ):\n",
    "    if end_y<start_y:\n",
    "        print(\"Wrong time window! Return 0...\")\n",
    "        return 0\n",
    "    Current_NPV = swap_obj.NPV() # Remember current NPV\n",
    "    nodes = list(range(1,31))  # the durations\n",
    "    dates = [ Mkt_dict[\"SDate\"] + ql.Period(n, ql.Years) for n in nodes ]\n",
    "    spreads = [ ql.SimpleQuote(0.0) for n in nodes ] # null spreads to begin\n",
    "    krd_curve = ql.SpreadedLinearZeroInterpolatedTermStructure( \n",
    "                    ql.YieldTermStructureHandle(yts_cur),\n",
    "                    [ql.QuoteHandle(q) for q in spreads],\n",
    "                    dates )\n",
    "    hyts_cur.linkTo(krd_curve)\n",
    "    for tt in spreads: # Clear current settings\n",
    "        tt.setValue(0.0)\n",
    "    delta = bps/(end_y-start_y)/10000\n",
    "    for i in range(start_y-1,30):\n",
    "        spreads[i].setValue(min(bps/10000,(i-start_y+1)*delta))\n",
    "    delta_val = Current_NPV-swap_obj.NPV()\n",
    "    for tt in spreads: # Clear current settings\n",
    "        tt.setValue(0.0)\n",
    "    return delta_val"
   ]
  },
  {
   "cell_type": "code",
   "execution_count": null,
   "metadata": {
    "collapsed": true
   },
   "outputs": [],
   "source": [
    "# Example for stress shocking \n",
    "start = 2\n",
    "end   = 5\n",
    "shift = -10\n",
    "delta = get_shock_delta( V_Swap, yts, hyts, \n",
    "                         start,  end, shift )\n",
    "print(delta)"
   ]
  },
  {
   "cell_type": "markdown",
   "metadata": {},
   "source": [
    "***1-b-3:CashFlow Sensitivity Calculation***: In the following I will list out some method to calculate cash flow sensitivity for a swap. Basically, what we are trying to do that is different from above is that instead of looking into fixed leg risks, we are looking into more floating leg changes. Meaning, if rates curve changes say 100 bps what will happen to our cash flow on this swap. In this case, the fixed leg will not change, but the floating leg will change correspondingly since it totally depend on yield curve. \n",
    "\n",
    "Now, let's take a look."
   ]
  },
  {
   "cell_type": "code",
   "execution_count": null,
   "metadata": {
    "collapsed": true
   },
   "outputs": [],
   "source": [
    "# Cash flow snesitivity when rate curve changed\n",
    "# Step One: Remember current Floating leg payments\n",
    "cur_cf = []\n",
    "for i,cf in enumerate(V_Swap.floatingLeg()):\n",
    "    cur_cf.append([cf.date(),cf.amount()])\n",
    "    print(\"Location={},Date={},Amount={}\".format(i,cf.date(),cf.amount()))"
   ]
  },
  {
   "cell_type": "code",
   "execution_count": null,
   "metadata": {
    "collapsed": true
   },
   "outputs": [],
   "source": [
    "# Step two shock whole yield curve by 100 bps\n",
    "nodes = list(range(0,31))  # the durations\n",
    "dates = [ Mkt_dict[\"SDate\"] + ql.Period(n, ql.Years) for n in nodes ]\n",
    "spreads = [ ql.SimpleQuote(0.01) for n in nodes ] # null spreads to begin\n",
    "fwd_curve = ql.SpreadedLinearZeroInterpolatedTermStructure( \n",
    "                ql.YieldTermStructureHandle(yts),\n",
    "                [ql.QuoteHandle(q) for q in spreads],\n",
    "                dates )\n",
    "f_hyts.linkTo(fwd_curve)\n",
    "# Reset whole swap since I cannot change only the forward curve on the fly\n",
    "swap_engine = ql.DiscountingSwapEngine(f_hyts)\n",
    "V_Swap.setPricingEngine(swap_engine)\n",
    "new_cf = V_Swap.floatingLeg()\n",
    "# Result from floating leg sensitivity analysis\n",
    "for cf0,cf1 in zip(cur_cf,new_cf):\n",
    "    sDate = cf0[0]\n",
    "    t0 = cf0[1]\n",
    "    t1 = cf1.amount()\n",
    "    print(\"Date={}, OriginalCF={:,.0f}, After100BPSCF={:,.0f}, Delta={:,.0f}\".format(sDate,t0,t1,t1-t0))\n",
    "for tt in spreads: # Clear current settings\n",
    "    tt.setValue(0.0)\n",
    "# Reset swap engine back to origianl\n",
    "swap_engine = ql.DiscountingSwapEngine(hyts)\n",
    "V_Swap.setPricingEngine(swap_engine)"
   ]
  },
  {
   "cell_type": "markdown",
   "metadata": {},
   "source": [
    "***1-b-4:How to take customized amortization schedule***: In the following I will talke about how to modify amortization schedule for a vanilla swap, this is useful for hedging purpose. "
   ]
  },
  {
   "cell_type": "code",
   "execution_count": null,
   "metadata": {
    "collapsed": true
   },
   "outputs": [],
   "source": [
    "# Define a customized schedule below:\n",
    "# In this example I am assuming a 3M vs 3M frequency schedule and \n",
    "# the amort table has the same\n",
    "t_calendar = ql.UnitedStates()\n",
    "settle_date = ql.Date(18, 11, 2021)\n",
    "maturity_date = ql.Date(18, 11, 2026)\n",
    "notiaonal = [100000000,80000000,60000000,40000000,\n",
    "             20000000,20000000,20000000,20000000,]\n",
    "fixed_rates = [0.02]*2*4"
   ]
  },
  {
   "cell_type": "code",
   "execution_count": null,
   "metadata": {
    "collapsed": true
   },
   "outputs": [],
   "source": [
    "# Swap Object is different from standard swap please take a look on documentation\n",
    "V_Swap_Dict = {\n",
    "    \"Type\":ql.VanillaSwap.Payer,\n",
    "    \"Notional\":notiaonal,\n",
    "    \"Fixed_Leg\":{\n",
    "        \"fixedSchedule\":ql.Schedule( settle_date, \n",
    "                                     maturity_date, \n",
    "                                     ql.Period(3, ql.Months), ql.UnitedStates(),\n",
    "                                     ql.ModifiedFollowing, ql.ModifiedFollowing,\n",
    "                                     ql.DateGeneration.Forward, False),\n",
    "        \"fixedRate\":fixed_rates,\n",
    "        \"fixedDayCount\":ql.Thirty360(),\n",
    "    },\n",
    "    \"Float_Leg\":{\n",
    "        \"floatSchedule\": ql.Schedule( settle_date, \n",
    "                                      maturity_date, \n",
    "                                      ql.Period(3, ql.Months), ql.UnitedStates(),\n",
    "                                      ql.ModifiedFollowing, ql.ModifiedFollowing,\n",
    "                                      ql.DateGeneration.Forward, False),\n",
    "        \"index\":ql.USDLibor(ql.Period(3,ql.Months),f_hyts),\n",
    "        \"spread\":0,\n",
    "        \"floatingDayCount\":ql.Actual360(),\n",
    "    },\n",
    "}\n",
    "floatingleg = ql.IborLeg( V_Swap_Dict[\"Notional\"],V_Swap_Dict[\"Float_Leg\"][\"floatSchedule\"],\n",
    "                          V_Swap_Dict[\"Float_Leg\"][\"index\"],V_Swap_Dict[\"Float_Leg\"][\"floatingDayCount\"])\n",
    "fixedleg    = ql.FixedRateLeg( V_Swap_Dict[\"Fixed_Leg\"][\"fixedSchedule\"],\n",
    "                               V_Swap_Dict[\"Fixed_Leg\"][\"fixedDayCount\"],\n",
    "                               V_Swap_Dict[\"Notional\"],V_Swap_Dict[\"Fixed_Leg\"][\"fixedRate\"])\n",
    "\n",
    "A_Swap = ql.Swap( floatingleg,fixedleg )\n",
    "swap_engine = ql.DiscountingSwapEngine(hyts)\n",
    "A_Swap.setPricingEngine(swap_engine)\n",
    "print(A_Swap.NPV())"
   ]
  },
  {
   "cell_type": "markdown",
   "metadata": {},
   "source": [
    "## 2 - XCS(Cross Currency Swap) Swap Pricing"
   ]
  },
  {
   "cell_type": "markdown",
   "metadata": {},
   "source": [
    "To begin with, let's review what is a XCS. In general, a XCS is a swap with two currencies to exchange with one fixed rate in leg one currency to a floating rate plus spread in leg two currency. For example, USD-EUR XCS could be paying EUR fixed rate at 4% and receive USD floating rate plus 3%. The motivation for investors doing this type of swap is to hedge their currency risk. If an investor has some ongoing project which generates fixed cash flow in EUR and that investor is based in US. Then get a XCS will be benifit to hedge currency risks instead of buying a lot of FRAs along the way."
   ]
  },
  {
   "cell_type": "markdown",
   "metadata": {},
   "source": [
    "***2-a:Steps for XCS valuation***:\n",
    "\n",
    "* Make sure the collateral is setteled in which currency, for example USD-EUR XCS could settle in USD, if this is the case, then we will be building curves based on basis spread from EUR to USD.\n",
    "* Build FX curve with LIBOR EUR plus EUR-USD basis spread. Details please refer to my previous post.(notebook:Bootstrapping)\n",
    "* Apply different curve to different leg in swap engine and translate the result (NPV) with spot EURUSD rate. NPV = NPV of EUR Leg(translate to USD) + NPV of USD Leg."
   ]
  },
  {
   "cell_type": "markdown",
   "metadata": {},
   "source": [
    "***QuantLib has no implementation on this. But I have my own implementation available on GitHub.***\n",
    "* What we can do for a simple approximation is by using tow bonds ith dual curve discounting.\n",
    "Below is an implementation with above method:\n",
    "\n",
    "For example, we are pricing a EUR vs USD XCS with:\n",
    "* Notiaonal at the begining: USD 112MM and EUR 100MM\n",
    "* Pay EUR 4% quaterly, ACT/360 -> Simulate with fixed rate bond.\n",
    "* Rec USD 3%+3ML LIBOR quaterly, ACT/360 -> Simulate with floating rate bond.\n",
    "* Current spotrate EURUSD = 1.10"
   ]
  },
  {
   "cell_type": "code",
   "execution_count": null,
   "metadata": {
    "collapsed": true
   },
   "outputs": [],
   "source": [
    "# Initialization\n",
    "index = ql.USDLibor(ql.Period(3,ql.Months),hyts)\n",
    "issueDate = settle_date\n",
    "maturityDate = maturity_date\n",
    "tenor = ql.Period(3, ql.Months)\n",
    "calendar = ql.UnitedStates()\n",
    "bussinessConvention = ql.ModifiedFollowing\n",
    "dateGeneration = ql.DateGeneration.Backward\n",
    "monthEnd = False\n",
    "schedule = ql.Schedule( issueDate, maturityDate, tenor, \n",
    "                        calendar, bussinessConvention, bussinessConvention, \n",
    "                        dateGeneration, monthEnd )\n",
    "dayCount = ql.Actual360()\n",
    "Spread = 0.03\n",
    "settlementDays = 2\n",
    "faceValue = 112000000\n",
    "USD_Leg = ql.FloatingRateBond(   settlementDays,\n",
    "                                 faceValue,\n",
    "                                 schedule,\n",
    "                                 index,\n",
    "                                 dayCount,\n",
    "                                 bussinessConvention,\n",
    "                                 0,\n",
    "                                 [],   # Gearings\n",
    "                                 [Spread],  # Spreads\n",
    "                              )\n",
    "bondEngine = ql.DiscountingBondEngine(hyts)\n",
    "USD_Leg.setPricingEngine(bondEngine)\n",
    "USD_NPV = USD_Leg.NPV()\n",
    "print(\"USD NPV={:.0f}\".format(USD_NPV))"
   ]
  },
  {
   "cell_type": "code",
   "execution_count": null,
   "metadata": {
    "collapsed": true,
    "scrolled": true
   },
   "outputs": [],
   "source": [
    "# EUR market instruments quotes\n",
    "EUR_Con_dict = {\n",
    "# All details listed here is directly from the market instruments\n",
    "# If changed to another sets of market instruments please update details here!\n",
    "    \"Cash\":{ \"DayCount\":ql.Actual360(),\n",
    "             \"EOM\":False, # Check if end of month please change correspondingly\n",
    "             \"BsDay\":ql.ModifiedFollowing,\n",
    "             \"Calendar\":ql.TARGET(),\n",
    "             \"SettlementDays\": 2, # Settlement shift after fixing\n",
    "           },\n",
    "    \"FRA\":{    \"DayCount\":ql.Actual360(),\n",
    "               \"EOM\":False, # Check if end of month please change correspondingly\n",
    "               \"BsDay\":ql.ModifiedFollowing,\n",
    "               \"fixingDays\":2,# For convexity adjustment\n",
    "               \"Calendar\":ql.TARGET(),\n",
    "               \"SettlementDays\": 2, # Settlement shift after fixing\n",
    "               \"LengthInMonths\": 3,\n",
    "             },\n",
    "    \"Swap\":{  \"Index\":ql.EURLibor(ql.Period(6,ql.Months)), # Floating Leg index rate\n",
    "              \"FloatingLegTenor\":ql.Period(6,ql.Months),\n",
    "              \"FloatingLegFrequency\":ql.Semiannual,\n",
    "              \"FloatingLegAdjustment\":ql.ModifiedFollowing,\n",
    "              \"FloatingLegDayCounter\":ql.Actual360(),\n",
    "              \"FixedLegFrequency\":ql.Annual,\n",
    "              \"FixedLegTenor\":ql.Period(12,ql.Months),\n",
    "              \"FixedLegAdjustment\":ql.ModifiedFollowing,\n",
    "              \"FixedLegDayCounter\":ql.Thirty360(),\n",
    "              \"SettlementDays\": 2, # Settlement shift after fixing\n",
    "              \"Calendar\":ql.TARGET(),\n",
    "            },\n",
    "}\n",
    "EUR_Mkt_dict = {\n",
    "    \"SDate\": ql.Date(18,11,2019), # Curve starting date\n",
    "    \"Cash\":{ (1,ql.Months): -0.0045,\n",
    "             (3,ql.Months): -0.00404,\n",
    "             (6,ql.Months): -0.00333,\n",
    "           },\n",
    "    \"FRA\":{    # IMM dates can be automated using above functions\n",
    "               # For clearly here I keep it as inputs date values\n",
    "               (1,7,ql.Months): -0.00325,\n",
    "               (2,8,ql.Months): -0.00326,\n",
    "               (3,9,ql.Months): -0.00327,\n",
    "               (4,10,ql.Months): -0.00330,\n",
    "               (5,11,ql.Months): -0.00331,\n",
    "               (6,12,ql.Months): -0.00333,\n",
    "               (7,13,ql.Months): -0.00337,\n",
    "               (8,14,ql.Months): -0.00340,\n",
    "               (9,15,ql.Months): -0.00341,\n",
    "               (10,16,ql.Months): -0.00345,\n",
    "             },\n",
    "    \"Swap\":{  (2,ql.Years): -0.00337,\n",
    "              (3,ql.Years): -0.00310,\n",
    "              (4,ql.Years): -0.0027,\n",
    "              (5,ql.Years): -0.00220,\n",
    "              (6,ql.Years): -0.00165,\n",
    "              (7,ql.Years): -0.00107,\n",
    "              (8,ql.Years): -0.00045,\n",
    "              (9,ql.Years): 0.00017,\n",
    "              (10,ql.Years): 0.00077,\n",
    "              (12,ql.Years): 0.00190,\n",
    "              (15,ql.Years): 0.00330,\n",
    "              (20,ql.Years): 0.00455,\n",
    "              (25,ql.Years): 0.00495,\n",
    "              (30,ql.Years): 0.0049,\n",
    "              (40,ql.Years): 0.00445,\n",
    "            },\n",
    "}\n",
    "EURUSD_Basis = {\n",
    "# For simplicity, I start with 1 year \n",
    "# if need more accuratcy we can modify it further\n",
    "    \"Basis\":{ (1,ql.Years): -0.00169,\n",
    "              (2,ql.Years): -0.0016375,\n",
    "              (3,ql.Years): -0.00169375,\n",
    "              (4,ql.Years): -0.00165,\n",
    "              (5,ql.Years): -0.0016125,\n",
    "              (6,ql.Years): -0.001675,\n",
    "              (7,ql.Years): -0.0016625,\n",
    "              (8,ql.Years): -0.0017375,\n",
    "              (9,ql.Years): -0.0017875,\n",
    "              (10,ql.Years): -0.001825,\n",
    "              (12,ql.Years): -0.00190,\n",
    "              (15,ql.Years): -0.001925,\n",
    "              (20,ql.Years): -0.001,\n",
    "              (25,ql.Years): -0.0007,\n",
    "              (30,ql.Years): -0.000055,\n",
    "              (40,ql.Years): -0.000055,\n",
    "            }\n",
    "}\n",
    "def Basis_Adjust( Mkt_dict, Basis):\n",
    "    # Apply basis adjustment on top of LIBOR curve\n",
    "    year_li = [2,3,4,5,6,7,8,9,10,12,15,20,25,30,40]\n",
    "    Y1_bs = Basis[\"Basis\"][(1,ql.Years)]\n",
    "    for key,val in Mkt_dict[\"Cash\"].items():\n",
    "        Mkt_dict[\"Cash\"][key] += Y1_bs\n",
    "    for key,val in Mkt_dict[\"FRA\"].items():\n",
    "        Mkt_dict[\"FRA\"][key] += Y1_bs\n",
    "    for yy in year_li:\n",
    "        Mkt_dict[\"Swap\"][(yy,ql.Years)] += Basis[\"Basis\"][(yy,ql.Years)]\n",
    "    return Mkt_dict\n",
    "\n",
    "EUR_Mkt_dict = Basis_Adjust( EUR_Mkt_dict, EURUSD_Basis)\n",
    "\n",
    "def Bootstrapping_FRA( Market, Convention ):\n",
    "    sDate = Market[\"SDate\"]\n",
    "    ql.Settings.instance().evaluationDate = sDate\n",
    "    # Convert market quotes into QuantLib \"Quote objects\"\n",
    "    deposits = Market[\"Cash\"]\n",
    "    FRAs     = Market[\"FRA\"]\n",
    "    swaps    = Market[\"Swap\"]\n",
    "    deposits_con  = Convention[\"Cash\"]\n",
    "    FRA_con       = Convention[\"FRA\"]\n",
    "    swaps_con     = Convention[\"Swap\"]\n",
    "    for n,unit in deposits.keys():\n",
    "        deposits[(n,unit)] = ql.SimpleQuote(deposits[(n,unit)])\n",
    "    for d in FRAs.keys():\n",
    "        FRAs[d] = ql.SimpleQuote(FRAs[d])\n",
    "    for n,unit in swaps.keys():\n",
    "        swaps[(n,unit)] = ql.SimpleQuote(swaps[(n,unit)])\n",
    "    # Build up helpers for curve building\n",
    "    depositHelpers = [ ql.DepositRateHelper( ql.QuoteHandle(deposits[(n,unit)]),\n",
    "                                             ql.Period(n,unit), deposits_con[\"SettlementDays\"],\n",
    "                                             deposits_con[\"Calendar\"], deposits_con[\"BsDay\"],\n",
    "                                             deposits_con[\"EOM\"], deposits_con[\"DayCount\"])\n",
    "                       for n, unit in deposits.keys() ]\n",
    "    FRAHelpers = [ ql.FraRateHelper( ql.QuoteHandle(FRAs[d]),\n",
    "                                     d[0],d[1],\n",
    "                                     FRA_con[\"fixingDays\"],\n",
    "                                     FRA_con[\"Calendar\"], FRA_con[\"BsDay\"],\n",
    "                                     FRA_con[\"EOM\"], FRA_con[\"DayCount\"] )\n",
    "                       for d in FRAs.keys() ]\n",
    "    swapHelpers = [ ql.SwapRateHelper( ql.QuoteHandle(swaps[(n,unit)]),\n",
    "                                       ql.Period(n,unit), swaps_con[\"Calendar\"],\n",
    "                                       swaps_con[\"FixedLegFrequency\"], swaps_con[\"FixedLegAdjustment\"],\n",
    "                                       swaps_con[\"FixedLegDayCounter\"], swaps_con[\"Index\"])\n",
    "                    for n, unit in swaps.keys() ]\n",
    "    # term-structure construction\n",
    "    helpers = depositHelpers + FRAHelpers + swapHelpers # Helpers combined\n",
    "    yts = ql.PiecewiseFlatForward( sDate, helpers, ql.Actual360()) # Forward curve defination\n",
    "    return yts\n",
    "\n",
    "temp_yts = Bootstrapping_FRA(EUR_Mkt_dict, EUR_Con_dict)\n",
    "eur_yts  = ql.RelinkableYieldTermStructureHandle(temp_yts)"
   ]
  },
  {
   "cell_type": "code",
   "execution_count": null,
   "metadata": {
    "collapsed": true
   },
   "outputs": [],
   "source": [
    "# EUR leg with FX curve discounting\n",
    "issueDate = settle_date\n",
    "maturityDate = maturity_date\n",
    "tenor = ql.Period(3, ql.Months)\n",
    "calendar = ql.TARGET()\n",
    "bussinessConvention = ql.ModifiedFollowing\n",
    "dateGeneration = ql.DateGeneration.Backward\n",
    "monthEnd = False\n",
    "\n",
    "schedule = ql.Schedule( issueDate, maturityDate, tenor, \n",
    "                        calendar, bussinessConvention, bussinessConvention, \n",
    "                        dateGeneration, monthEnd )\n",
    "\n",
    "dayCount = ql.Actual360()\n",
    "couponRate = 0.04\n",
    "coupons = [couponRate]\n",
    "\n",
    "settlementDays = 2\n",
    "faceValue = 100000000\n",
    "EUR_Leg = ql.FixedRateBond(settlementDays, faceValue, schedule, coupons, dayCount)\n",
    "bondEngine = ql.DiscountingBondEngine(eur_yts)\n",
    "EUR_Leg.setPricingEngine(bondEngine)\n",
    "EUR_NPV = EUR_Leg.NPV()*1.106\n",
    "print(\"EUR NPV={:.0f}\".format(EUR_NPV))"
   ]
  },
  {
   "cell_type": "code",
   "execution_count": null,
   "metadata": {
    "collapsed": true
   },
   "outputs": [],
   "source": [
    "print(\"XCS pricing = {:,.0f}\".format(USD_NPV-EUR_NPV))\n",
    "# Cheeck out Bloomberg Value = 2.1MM Closer enough for risk purpose."
   ]
  },
  {
   "cell_type": "markdown",
   "metadata": {},
   "source": [
    "## 3 - Basis Swap Pricing"
   ]
  },
  {
   "cell_type": "markdown",
   "metadata": {},
   "source": [
    "To begin with, a Basis swap is a type of swap exchange floating rate with floating rate based on different index. For example, we can do LIBOR vs FED rate on USD basis swap which exchange quarterly on floating index LIBOR and FedFund Rates. \n",
    "\n",
    "In the following, I will use this swap (USD LIBOR vs Fed, 3M, no spread, 100MM) as an example: \n",
    "1. The way we are going to do is to use OIS raw curve and OIS adjusted curve (adjusted to LIBOR) as insturments. (This implementation might different from a full curve building implementation, since the actual way to get OIS adjusted curve build is too complicated to implement.)\n",
    "2. The adjusted OIS curve will be used as forward cash flow projection to the \"assumed\" LIBOR leg. And both leg will be discounted back with raw OIS curve.\n",
    "3. We will keep using the OIS insturments as we did in the last post, details please refer to \"Notebook:Boostrapping\".\n",
    "\n",
    "Now, let's start build raw OIS curve:"
   ]
  },
  {
   "cell_type": "code",
   "execution_count": null,
   "metadata": {
    "collapsed": true
   },
   "outputs": [],
   "source": [
    "OIS_Con_dict = {\n",
    "# All details listed here is directly from the market instruments\n",
    "# If changed to another sets of market instruments please update details here!\n",
    "    \"OIS\":{ \"Index\":ql.OvernightIndex( \"FED\", 2, \n",
    "                                       ql.USDCurrency(), \n",
    "                                       ql.UnitedStates(), \n",
    "                                       ql.Actual360()), # Floating Leg index rate\n",
    "            },\n",
    "}\n",
    "OIS_Mkt_dict = {\n",
    "    \"SDate\": ql.Date(19,11,2019), # Curve starting date\n",
    "    \"OIS\":{   (1,ql.Weeks): 0.0156,\n",
    "              (2,ql.Weeks): 0.01565,\n",
    "              (3,ql.Weeks): 0.01567,\n",
    "              (2,ql.Months): 0.01555,\n",
    "              (3,ql.Months): 0.01544,\n",
    "              (6,ql.Months): 0.01506,\n",
    "              (12,ql.Months): 0.01433,\n",
    "              (18,ql.Months): 0.0137,\n",
    "              (2,ql.Years): 0.0134,\n",
    "              (3,ql.Years): 0.01315,\n",
    "              (5,ql.Years): 0.0133,\n",
    "              (7,ql.Years): 0.01372,\n",
    "              (10,ql.Years): 0.01456,\n",
    "              (12,ql.Years): 0.01503,\n",
    "              (15,ql.Years): 0.01558,\n",
    "              (20,ql.Years): 0.01613,\n",
    "            },\n",
    "}\n",
    "OIS_Basis_adj = {\n",
    "              (1,ql.Weeks): 0.00066,\n",
    "              (2,ql.Weeks): 0.00066,\n",
    "              (3,ql.Weeks): 0.00066,\n",
    "              (2,ql.Months): 0.00132,\n",
    "              (3,ql.Months): 0.00132,\n",
    "              (6,ql.Months): 0.00132,\n",
    "              (12,ql.Months): 0.00264,\n",
    "              (18,ql.Months): 0.00255,\n",
    "              (2,ql.Years): 0.00246,\n",
    "              (3,ql.Years): 0.00235,\n",
    "              (5,ql.Years): 0.002265,\n",
    "              (7,ql.Years): 0.00225,\n",
    "              (10,ql.Years): 0.002237,\n",
    "              (12,ql.Years): 0.002225,\n",
    "              (15,ql.Years): 0.0022125,\n",
    "              (20,ql.Years): 0.0022125,\n",
    "}\n",
    "def OIS_basis_adj_apply(Market, basis_adj):\n",
    "    # Apply OIS basis spread to raw OIS curve\n",
    "    adjusted_ois = {}\n",
    "    adjusted_ois[\"SDate\"] = Market[\"SDate\"]\n",
    "    adjusted_ois[\"OIS\"] = {}\n",
    "    for key,val in OIS_Basis_adj.items():\n",
    "        adjusted_ois[\"OIS\"][key] = Market[\"OIS\"][key]+basis_adj[key]\n",
    "    return adjusted_ois\n",
    "\n",
    "def Bootstrapping_OIS( Market, Convention ):\n",
    "    sDate = Market[\"SDate\"]\n",
    "    ql.Settings.instance().evaluationDate = sDate\n",
    "    # Convert market quotes into QuantLib \"Quote objects\"\n",
    "    OISs     = Market[\"OIS\"]\n",
    "    OISs_con = Convention[\"OIS\"]\n",
    "    for n,unit in OISs.keys():\n",
    "        OISs[(n,unit)] = ql.SimpleQuote(OISs[(n,unit)])\n",
    "    # Build up helpers for curve building\n",
    "    OISHelpers = [ ql.OISRateHelper( 2,\n",
    "                                     ql.Period(n,unit),\n",
    "                                     ql.QuoteHandle(OISs[(n,unit)]),\n",
    "                                     Convention[\"OIS\"][\"Index\"]\n",
    "                                   )\n",
    "                    for n, unit in OISs.keys() ]\n",
    "    # term-structure construction\n",
    "    helpers = OISHelpers # Helpers combined\n",
    "    yts = ql.PiecewiseFlatForward( sDate, helpers, ql.Actual360()) # Forward curve defination\n",
    "    return yts\n",
    "# Get TermStructure object\n",
    "OIS_Adj_dict = OIS_basis_adj_apply(OIS_Mkt_dict,OIS_Basis_adj)\n",
    "OIS_raw_yts = Bootstrapping_OIS(OIS_Mkt_dict, OIS_Con_dict)\n",
    "OIS_raw_hyts  = ql.RelinkableYieldTermStructureHandle(OIS_raw_yts)\n",
    "OIS_adj_yts = Bootstrapping_OIS(OIS_Adj_dict, OIS_Con_dict)\n",
    "OIS_adj_hyts  = ql.RelinkableYieldTermStructureHandle(OIS_adj_yts)"
   ]
  },
  {
   "cell_type": "code",
   "execution_count": null,
   "metadata": {
    "collapsed": true
   },
   "outputs": [],
   "source": [
    "# Model it as two floating rate bonds\n",
    "index = ql.OvernightIndex( \"FED\", 2, \n",
    "                           ql.USDCurrency(), \n",
    "                           ql.UnitedStates(), \n",
    "                           ql.Actual360(),OIS_raw_hyts)\n",
    "issueDate = settle_date\n",
    "maturityDate = maturity_date\n",
    "tenor = ql.Period(3, ql.Months)\n",
    "calendar = ql.UnitedStates()\n",
    "bussinessConvention = ql.ModifiedFollowing\n",
    "dateGeneration = ql.DateGeneration.Backward\n",
    "monthEnd = False\n",
    "schedule = ql.Schedule( issueDate, maturityDate, tenor, \n",
    "                        calendar, bussinessConvention, bussinessConvention, \n",
    "                        dateGeneration, monthEnd )\n",
    "dayCount = ql.Actual360()\n",
    "Spread = 0.0\n",
    "settlementDays = 2\n",
    "faceValue = 100000000\n",
    "Leg1 = ql.FloatingRateBond(settlementDays,\n",
    "                           faceValue,\n",
    "                           schedule,\n",
    "                           index,\n",
    "                           dayCount,\n",
    "                           bussinessConvention,\n",
    "                           0,\n",
    "                           [],   # Gearings\n",
    "                           [Spread],  # Spreads\n",
    "                          )\n",
    "bondEngine = ql.DiscountingBondEngine(OIS_raw_hyts)\n",
    "Leg1.setPricingEngine(bondEngine)\n",
    "NPV1 = Leg1.NPV()\n",
    "print(NPV1)"
   ]
  },
  {
   "cell_type": "markdown",
   "metadata": {},
   "source": [
    "***NOTE:*** For the adjusted leg, we should use adjusted curve for cash flow projection and raw OIS curve for discounting. This is a little bit tricky, please pay attention to Discounting Engine and index building."
   ]
  },
  {
   "cell_type": "code",
   "execution_count": null,
   "metadata": {
    "collapsed": true
   },
   "outputs": [],
   "source": [
    "index = ql.OvernightIndex( \"FED\", 2, \n",
    "                           ql.USDCurrency(), \n",
    "                           ql.UnitedStates(), \n",
    "                           ql.Actual360(),OIS_adj_hyts)\n",
    "issueDate = settle_date\n",
    "maturityDate = maturity_date\n",
    "tenor = ql.Period(3, ql.Months)\n",
    "calendar = ql.UnitedStates()\n",
    "bussinessConvention = ql.ModifiedFollowing\n",
    "dateGeneration = ql.DateGeneration.Backward\n",
    "monthEnd = False\n",
    "schedule = ql.Schedule( issueDate, maturityDate, tenor, \n",
    "                        calendar, bussinessConvention, bussinessConvention, \n",
    "                        dateGeneration, monthEnd )\n",
    "dayCount = ql.Actual360()\n",
    "Spread = 0.0\n",
    "settlementDays = 2\n",
    "faceValue = 100000000\n",
    "Leg2 = ql.FloatingRateBond(settlementDays,\n",
    "                           faceValue,\n",
    "                           schedule,\n",
    "                           index,\n",
    "                           dayCount,\n",
    "                           bussinessConvention,\n",
    "                           0,\n",
    "                           [],   # Gearings\n",
    "                           [Spread],  # Spreads\n",
    "                          )\n",
    "bondEngine = ql.DiscountingBondEngine(OIS_raw_hyts)\n",
    "Leg2.setPricingEngine(bondEngine)\n",
    "NPV2 = Leg2.NPV()\n",
    "print(NPV2)"
   ]
  },
  {
   "cell_type": "code",
   "execution_count": null,
   "metadata": {
    "collapsed": true
   },
   "outputs": [],
   "source": [
    "print(\"NPV with 0 spread={:,.0f}\".format(NPV2-NPV1))"
   ]
  },
  {
   "cell_type": "markdown",
   "metadata": {},
   "source": [
    "## Summary\n",
    "\n",
    "In the above notebook, I detailed all basic swap instruments to price and point out some key risk metric calculations. For the XCS and OIS swap pricing, due to a lack of implementation in QuantLib Pyhton version. I am using bond cash flow to calcualte its value, however, this type of implementation is not good for risk calculation especially DV01, KRDs and projected cash flow sensitivities."
   ]
  }
 ],
 "metadata": {
  "kernelspec": {
   "display_name": "Python 3",
   "language": "python",
   "name": "python3"
  },
  "language_info": {
   "codemirror_mode": {
    "name": "ipython",
    "version": 3
   },
   "file_extension": ".py",
   "mimetype": "text/x-python",
   "name": "python",
   "nbconvert_exporter": "python",
   "pygments_lexer": "ipython3",
   "version": "3.6.1"
  }
 },
 "nbformat": 4,
 "nbformat_minor": 2
}
