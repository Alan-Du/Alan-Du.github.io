{
 "cells": [
  {
   "cell_type": "markdown",
   "metadata": {},
   "source": [
    "# BasicOptionPricing Workbook\n",
    "--- Nov-21-2019, Alan, Shaolun.du@gmail.com\n",
    "\n",
    "This is a detailed documentation on Option Pricing, mainly in Rates and Currency area. In the following, I will go over three different types of options and detailed on how to price them with QuantLib: \n",
    "\n",
    "- FX Option: Basic option on FX forward.\n",
    "- Caps/Floors: A bundle of caplets or floorlets based on rate index.\n",
    "- Swaption: Basic option on interest rate swap(I will only talk about swaption on signle currency vanilla swap).\n",
    "\n",
    "*** NOTE: As we were doing previously, I will continue using USD curve as an example going forward, and I will use USD/EUR for FX option as an example.***"
   ]
  },
  {
   "cell_type": "markdown",
   "metadata": {},
   "source": [
    "## 0 - Brief introducation on QuantLib Option pricing\n",
    "\n",
    "Price of any derivative, be it a plain-vanilla option or a complex structured product, depends on the following inputs:\n",
    "1. Price of the underlying securities as on date of pricing and their feeds\n",
    "2. Term structure of interest rates, volatility, inflation and default probabilities\n",
    "3. Cash flows (including coupons and dividends) from the instrument\n",
    "4. Stochastic process for the underlying\n",
    "5. Pricing engine (the numerical method used for pricing)"
   ]
  },
  {
   "cell_type": "markdown",
   "metadata": {},
   "source": [
    "## 1 - FX Option Pricing\n",
    "\n",
    "To start, please import the library:"
   ]
  },
  {
   "cell_type": "code",
   "execution_count": 11,
   "metadata": {
    "collapsed": true
   },
   "outputs": [],
   "source": [
    "import QuantLib as ql\n",
    "import numpy as np\n",
    "import math\n",
    "from scipy.integrate import simps, cumtrapz, romb\n",
    "import matplotlib.pyplot as plt\n",
    "%matplotlib inline"
   ]
  },
  {
   "cell_type": "markdown",
   "metadata": {},
   "source": [
    "Setup option paramaters below:\n",
    "1. We are looking into USDCAD currency FX option, starting 2017-Mar-23 maturity 2017-Apr-24\n",
    "2. Spot rate = 1.3347, Strike rate = 1.3338, vol = 6.55%, CAD rf = 0/5% and USD rf = 0.75%"
   ]
  },
  {
   "cell_type": "code",
   "execution_count": 48,
   "metadata": {},
   "outputs": [],
   "source": [
    "# option data\n",
    "calculation_date = ql.Date(23, 3, 2017)\n",
    "maturity_date = ql.Date(24, 4, 2017)\n",
    "option_type = ql.Option.Put\n",
    "spot_price = 1/1.3347\n",
    "strike_price = 1/1.3338\n",
    "volatility = 0.0655 # the historical vols for a year\n",
    "f_rate =  0.005 # the target currency risk free rate\n",
    "d_rate = 0.0075 # domestic currency risk free rate\n",
    "day_count = ql.Business252()\n",
    "calendar = ql.UnitedStates()\n",
    "ql.Settings.instance().evaluationDate = calculation_date"
   ]
  },
  {
   "cell_type": "markdown",
   "metadata": {},
   "source": [
    "The Black-Scholes-Merto process is constructed below:\n",
    "\n",
    "***NOTE***: I am using a flat risk free curve here, to get a more accurate implementation we can use bootstrapped yield curve from \"NoteBook:Bootstrapping\"."
   ]
  },
  {
   "cell_type": "code",
   "execution_count": 44,
   "metadata": {},
   "outputs": [],
   "source": [
    "# construct the European Option\n",
    "payoff = ql.PlainVanillaPayoff(option_type, strike_price)\n",
    "exercise = ql.EuropeanExercise(maturity_date)\n",
    "european_option = ql.VanillaOption(payoff, exercise)\n",
    "# BK engine\n",
    "spot_handle = ql.QuoteHandle(\n",
    "    ql.SimpleQuote(spot_price)\n",
    ")\n",
    "flat_f = ql.YieldTermStructureHandle(\n",
    "    ql.FlatForward(calculation_date, f_rate, day_count)\n",
    ")\n",
    "flat_d = ql.YieldTermStructureHandle(\n",
    "    ql.FlatForward(calculation_date, d_rate, day_count)\n",
    ")\n",
    "flat_vol_ts = ql.BlackVolTermStructureHandle(\n",
    "    ql.BlackConstantVol(calculation_date, calendar, volatility, day_count)\n",
    ")\n",
    "bsm_process = ql.BlackScholesMertonProcess( spot_handle, \n",
    "                                            flat_f, \n",
    "                                            flat_d, \n",
    "                                            flat_vol_ts )"
   ]
  },
  {
   "cell_type": "markdown",
   "metadata": {},
   "source": [
    "Compute option value:"
   ]
  },
  {
   "cell_type": "code",
   "execution_count": 47,
   "metadata": {},
   "outputs": [
    {
     "name": "stdout",
     "output_type": "stream",
     "text": [
      "The theoretical price is 0.0056946859070836735(CAD),0.0076006972801845795(USD)\n"
     ]
    }
   ],
   "source": [
    "european_option.setPricingEngine(ql.AnalyticEuropeanEngine(bsm_process))\n",
    "bs_price = european_option.NPV()\n",
    "print(\"The theoretical price is {}(CAD),{}(USD)\".format(bs_price,bs_price/spot_price))"
   ]
  },
  {
   "cell_type": "markdown",
   "metadata": {},
   "source": [
    "## 2 - Cap/Floor Option Pricing\n",
    "\n",
    "In this section, I will talk about how to use QuantLib price caps and floors with our USD example. To value a cal or floor, we need the following objects setup:\n",
    "1. Interest rate term structure for discounting, (Use previous USD curve)\n",
    "2. Volatility term structure for Black formula v-lookup. (We will use flat-vol)\n",
    "3. Construction of the cap.\n",
    "4. Pricing engine to value caps using the Black formula.\n",
    "\n",
    "Now Let's start:"
   ]
  },
  {
   "cell_type": "markdown",
   "metadata": {},
   "source": [
    "## 2 - a Cap/Floor Option Pricing: Yield curve term structure"
   ]
  },
  {
   "cell_type": "code",
   "execution_count": 49,
   "metadata": {
    "collapsed": true
   },
   "outputs": [],
   "source": [
    "# Helper function for curve building please refer to previous post\n",
    "# Pull out a yield curve for pricing\n",
    "# Details please refer to previous workbook, we will use USD LIBOR curve here.\n",
    "Con_dict = {\n",
    "# All details listed here is directly from the market instruments\n",
    "# If changed to another sets of market instruments please update details here!\n",
    "    \"Cash\":{ \"DayCount\":ql.Actual360(),\n",
    "             \"EOM\":False, # Check if end of month please change correspondingly\n",
    "             \"BsDay\":ql.ModifiedFollowing,\n",
    "             \"Calendar\":ql.UnitedStates(),\n",
    "             \"SettlementDays\": 2, # Settlement shift after fixing\n",
    "           },\n",
    "    \"Future\":{ \"DayCount\":ql.Actual360(),\n",
    "               \"EOM\":False, # Check if end of month please change correspondingly\n",
    "               \"BsDay\":ql.ModifiedFollowing,\n",
    "               \"ConVes_Adj\":ql.QuoteHandle(ql.SimpleQuote(0.0)),# For convexity adjustment\n",
    "               \"Calendar\":ql.UnitedStates(),\n",
    "               \"SettlementDays\": 2, # Settlement shift after fixing\n",
    "               \"LengthInMonths\": 3,\n",
    "             },\n",
    "    \"Swap\":{  \"Index\":ql.USDLibor(ql.Period(3,ql.Months)), # Floating Leg index rate\n",
    "              \"FloatingLegTenor\":ql.Period(3,ql.Months),\n",
    "              \"FloatingLegFrequency\":ql.Quarterly,\n",
    "              \"FloatingLegAdjustment\":ql.ModifiedFollowing,\n",
    "              \"FloatingLegDayCounter\":ql.Actual360(),\n",
    "              \"FixedLegFrequency\":ql.Semiannual,\n",
    "              \"FixedLegTenor\":ql.Period(6,ql.Months),\n",
    "              \"FixedLegAdjustment\":ql.ModifiedFollowing,\n",
    "              \"FixedLegDayCounter\":ql.Thirty360(),\n",
    "              \"SettlementDays\": 2, # Settlement shift after fixing\n",
    "              \"Calendar\":ql.UnitedStates(),\n",
    "            },\n",
    "}\n",
    "Mkt_dict = {\n",
    "    \"SDate\": ql.Date(18,11,2019), # Curve starting date\n",
    "    \"Cash\":{ (1,ql.Months): 0.018325,\n",
    "             (3,ql.Months): 0.019026,\n",
    "             (6,ql.Months): 0.019185,\n",
    "           },\n",
    "    \"Future\":{ # IMM dates can be automated using above functions\n",
    "               # For clearly here I keep it as inputs date values\n",
    "               ql.Date(18,12,2019): 98.1125,\n",
    "               ql.Date(18,3,2020): 98.325,\n",
    "               ql.Date(17,6,2020): 98.415,\n",
    "               ql.Date(16,9,2020): 98.49,\n",
    "               ql.Date(16,9,2020): 98.49,\n",
    "               ql.Date(16,9,2020): 98.55,\n",
    "             },\n",
    "    \"Swap\":{  (2,ql.Years): 0.01604,\n",
    "              (3,ql.Years): 0.0157,\n",
    "              (4,ql.Years): 0.01567,\n",
    "              (5,ql.Years): 0.015785,\n",
    "              (6,ql.Years): 0.01597,\n",
    "              (7,ql.Years): 0.0162,\n",
    "              (8,ql.Years): 0.016475,\n",
    "              (9,ql.Years): 0.01677,\n",
    "              (10,ql.Years): 0.01705,\n",
    "              (11,ql.Years): 0.017315,\n",
    "              (12,ql.Years): 0.01756,\n",
    "              (15,ql.Years): 0.01811,\n",
    "              (20,ql.Years): 0.01869,\n",
    "              (25,ql.Years): 0.0189,\n",
    "              (30,ql.Years): 0.018932,\n",
    "              (40,ql.Years): 0.01873,\n",
    "            },\n",
    "}\n",
    "def Bootstrapping( Market, Convention ):\n",
    "    sDate = Market[\"SDate\"]\n",
    "    ql.Settings.instance().evaluationDate = sDate\n",
    "    # Convert market quotes into QuantLib \"Quote objects\"\n",
    "    deposits = Market[\"Cash\"]\n",
    "    futures  = Market[\"Future\"]\n",
    "    swaps    = Market[\"Swap\"]\n",
    "    deposits_con  = Convention[\"Cash\"]\n",
    "    futuresc_con  = Convention[\"Future\"]\n",
    "    swaps_con     = Convention[\"Swap\"]\n",
    "    for n,unit in deposits.keys():\n",
    "        deposits[(n,unit)] = ql.SimpleQuote(deposits[(n,unit)])\n",
    "    for d in futures.keys():\n",
    "        futures[d] = ql.SimpleQuote(futures[d])\n",
    "    for n,unit in swaps.keys():\n",
    "        swaps[(n,unit)] = ql.SimpleQuote(swaps[(n,unit)])\n",
    "    # Build up helpers for curve building\n",
    "    depositHelpers = [ ql.DepositRateHelper( ql.QuoteHandle(deposits[(n,unit)]),\n",
    "                                             ql.Period(n,unit), deposits_con[\"SettlementDays\"],\n",
    "                                             deposits_con[\"Calendar\"], deposits_con[\"BsDay\"],\n",
    "                                             deposits_con[\"EOM\"], deposits_con[\"DayCount\"])\n",
    "                       for n, unit in deposits.keys() ]\n",
    "    futuresHelpers = [ ql.FuturesRateHelper( ql.QuoteHandle(futures[d]),\n",
    "                                             d, futuresc_con[\"LengthInMonths\"],\n",
    "                                             futuresc_con[\"Calendar\"], futuresc_con[\"BsDay\"],\n",
    "                                             futuresc_con[\"EOM\"], futuresc_con[\"DayCount\"],\n",
    "                                             futuresc_con[\"ConVes_Adj\"])\n",
    "                       for d in futures.keys() ]\n",
    "    swapHelpers = [ ql.SwapRateHelper( ql.QuoteHandle(swaps[(n,unit)]),\n",
    "                                       ql.Period(n,unit), swaps_con[\"Calendar\"],\n",
    "                                       swaps_con[\"FixedLegFrequency\"], swaps_con[\"FixedLegAdjustment\"],\n",
    "                                       swaps_con[\"FixedLegDayCounter\"], swaps_con[\"Index\"])\n",
    "                    for n, unit in swaps.keys() ]\n",
    "    # term-structure construction\n",
    "    helpers = depositHelpers + futuresHelpers + swapHelpers # Helpers combined\n",
    "    yts = ql.PiecewiseFlatForward( sDate, helpers, ql.Actual360()) # Forward curve defination\n",
    "    yts.enableExtrapolation()\n",
    "    return yts\n",
    "\n",
    "# Generate USE LIBOR yield curve with TermStructure object\n",
    "yts = Bootstrapping(Mkt_dict, Con_dict)\n",
    "hyts = ql.RelinkableYieldTermStructureHandle(yts) # Build discounting curve into a term structure\n",
    "f_hyts = ql.RelinkableYieldTermStructureHandle(yts) # Build forward curve term structure"
   ]
  },
  {
   "cell_type": "markdown",
   "metadata": {},
   "source": [
    "## 2 - b Cap/Floor Option Pricing: Volatility term structure\n",
    "\n",
    "To get vol termstructure we usually have to use a 2D surface but in this example I will strip the market quoted capfloor volatilities to infer the volatility of each and every caplet. Also, QuantLib provides excellent tools in order to do that."
   ]
  },
  {
   "cell_type": "code",
   "execution_count": 61,
   "metadata": {
    "collapsed": true
   },
   "outputs": [],
   "source": [
    "# Market vol data for relevent strikes\n",
    "strikes = [0.01,0.015, 0.02]\n",
    "# Tenor 1,2,3,4,5,7,10,12\n",
    "expiries = [ ql.Period(1, ql.Years), ql.Period(2, ql.Years),\n",
    "             ql.Period(3, ql.Years), ql.Period(4, ql.Years),\n",
    "             ql.Period(5, ql.Years), ql.Period(7, ql.Years),\n",
    "             ql.Period(10, ql.Years), ql.Period(12, ql.Years),]\n",
    "vols = ql.Matrix(len(expiries), len(strikes))\n",
    "data = [[43.06,43.46,48.98,48.64,49.19,48.27,47.87,47.354],\n",
    "        [27.53,34.72,38.45,41.01,41.2,41.22,40.57,40.062],\n",
    "        [24.44,30.36,32.02,35.93,35.85,36.48,35.51,35.018]\n",
    "       ]\n",
    "for i in range(vols.rows()):\n",
    "    for j in range(vols.columns()):\n",
    "        vols[i][j] = data[j][i]/100.0\n",
    "        \n",
    "calendar = ql.UnitedStates()\n",
    "bdc = ql.ModifiedFollowing\n",
    "daycount = ql.Actual365Fixed()\n",
    "settlement_days = 2\n",
    "capfloor_vol = ql.CapFloorTermVolSurface(settlement_days, calendar, bdc, expiries, strikes, vols, daycount)\n",
    "# Build up option surface\n",
    "optionlet_surf = ql.OptionletStripper1(capfloor_vol, ibor_index)\n",
    "ovs_handle     = ql.OptionletVolatilityStructureHandle(\n",
    "                    ql.StrippedOptionletAdapter(optionlet_surf))"
   ]
  },
  {
   "cell_type": "markdown",
   "metadata": {},
   "source": [
    "Let's take a look at those surfaces. The way to construct(strip) the optionlet volatility is simple, we use the following formula:\n",
    "$$VOL^{2}_{t}*t = VOL^{2}_{t-1,t} + VOL^{2}_{t-1}*(t-1)$$"
   ]
  },
  {
   "cell_type": "code",
   "execution_count": 63,
   "metadata": {},
   "outputs": [
    {
     "data": {
      "text/plain": [
       "<matplotlib.legend.Legend at 0x1c3c0d68>"
      ]
     },
     "execution_count": 63,
     "metadata": {},
     "output_type": "execute_result"
    },
    {
     "data": {
      "image/png": "[encoded data removed]",
      "text/plain": [
       "<matplotlib.figure.Figure at 0x1c352128>"
      ]
     },
     "metadata": {},
     "output_type": "display_data"
    }
   ],
   "source": [
    "tenors = np.arange(0,10,0.25)\n",
    "strike = 0.017\n",
    "capfloor_vols = [capfloor_vol.volatility(t, strike) for t in tenors]\n",
    "opionlet_vols = [ovs_handle.volatility(t, strike) for t in tenors]\n",
    "\n",
    "plt.plot(tenors, capfloor_vols, \"--\", label=\"CapFloor Vols\")\n",
    "plt.plot(tenors, opionlet_vols,\"-\", label=\"Optionlet Vols\")\n",
    "plt.legend(bbox_to_anchor=(0.5, 0.25))"
   ]
  },
  {
   "cell_type": "markdown",
   "metadata": {},
   "source": [
    "## 2 - c&d Cap/Floor Option Pricing: Cap/Floor object build and pricing engine setup"
   ]
  },
  {
   "cell_type": "code",
   "execution_count": 106,
   "metadata": {},
   "outputs": [
    {
     "name": "stdout",
     "output_type": "stream",
     "text": [
      "852876.6718454376\n"
     ]
    }
   ],
   "source": [
    "# This is an example with Cap pricing \n",
    "# The same thing happends with Floor pricing\n",
    "start_date = ql.Date(1, 1, 2020)\n",
    "end_date = ql.Date(1, 1 , 2023)\n",
    "period = ql.Period(3, ql.Months)\n",
    "calendar = ql.UnitedStates()\n",
    "buss_convention = ql.ModifiedFollowing\n",
    "rule = ql.DateGeneration.Forward\n",
    "end_of_month = False\n",
    "schedule = ql.Schedule(start_date, end_date, period,\n",
    "                       calendar, buss_convention, buss_convention, \n",
    "                       rule, end_of_month)\n",
    "\n",
    "ibor_index = ql.USDLibor(ql.Period(3, ql.Months), hyts)\n",
    "ibor_leg = ql.IborLeg([100000000], schedule, ibor_index)\n",
    "strike = 0.015\n",
    "cap = ql.Cap(ibor_leg, [strike])\n",
    "\n",
    "engine = ql.BlackCapFloorEngine(hyts, ovs_handle)\n",
    "\n",
    "cap.setPricingEngine(engine)\n",
    "print(cap.NPV())"
   ]
  },
  {
   "cell_type": "markdown",
   "metadata": {},
   "source": [
    "## 3 - Swaption Pricing\n",
    "\n",
    "In this section, I will walk you through swaption pricing in QuantLib with actual USD term structure we used before. In general, a swaption is an option allows holder to have the right go into a swap with pre-determined details. The pricing here we will use is the basic Black-Shores derived formula, called BLK76.\n",
    "\n",
    "Actually, we will do the followings:\n",
    "1. Model a USD yield curve term structure. (Already done, use the previous term structure)\n",
    "2. Model a underlying swap deal for swaption. (Borrow from NOTE:Bootstrapping examlpe USD swap.)\n",
    "3. Inputs USD swaption vol cube (3D volatility surface).\n",
    "4. Setp option object and pricing engine."
   ]
  },
  {
   "cell_type": "markdown",
   "metadata": {},
   "source": [
    "## 3 - a Swaption Pricing: Yield curve term structure & Swap model\n",
    "\n",
    "***NOTE***: For swap deal details and how to model, please refer to my previous post:NOTEBOOK Bootstrapping"
   ]
  },
  {
   "cell_type": "code",
   "execution_count": 145,
   "metadata": {},
   "outputs": [],
   "source": [
    "# Swap object defined as a dictionary with float leg and fixed leg\n",
    "# Inorder to advance date in Quantlib we have to use a calender object\n",
    "t_calendar = ql.UnitedStates()\n",
    "settle_date = t_calendar.advance(Mkt_dict[\"SDate\"], 2, ql.Years)\n",
    "maturity_date = t_calendar.advance(settle_date, 5, ql.Years)\n",
    "V_Swap_Dict = {\n",
    "    \"Type\":ql.VanillaSwap.Receiver,\n",
    "    \"Notional\":100000000,\n",
    "    \"Fixed_Leg\":{\n",
    "        \"fixedSchedule\":ql.Schedule( settle_date, \n",
    "                                     maturity_date, \n",
    "                                     ql.Period(6, ql.Months), ql.UnitedStates(),\n",
    "                                     ql.ModifiedFollowing, ql.ModifiedFollowing,\n",
    "                                     ql.DateGeneration.Forward, False),\n",
    "        \"fixedRate\":0.02,\n",
    "        \"fixedDayCount\":ql.Thirty360(),\n",
    "    },\n",
    "    \"Float_Leg\":{\n",
    "        \"floatSchedule\": ql.Schedule( settle_date, \n",
    "                                      maturity_date, \n",
    "                                      ql.Period(3, ql.Months), ql.UnitedStates(),\n",
    "                                      ql.ModifiedFollowing, ql.ModifiedFollowing,\n",
    "                                      ql.DateGeneration.Forward, False),\n",
    "        \"index\":ql.USDLibor(ql.Period(3,ql.Months),f_hyts),\n",
    "        \"spread\":0,\n",
    "        \"floatingDayCount\":ql.Actual360(),\n",
    "    },\n",
    "}\n",
    "# vanillaSwap model\n",
    "Swap = ql.VanillaSwap(   V_Swap_Dict[\"Type\"], \n",
    "                         V_Swap_Dict[\"Notional\"], \n",
    "                         V_Swap_Dict[\"Fixed_Leg\"][\"fixedSchedule\"], \n",
    "                         V_Swap_Dict[\"Fixed_Leg\"][\"fixedRate\"], \n",
    "                         V_Swap_Dict[\"Fixed_Leg\"][\"fixedDayCount\"], \n",
    "                         V_Swap_Dict[\"Float_Leg\"][\"floatSchedule\"],\n",
    "                         V_Swap_Dict[\"Float_Leg\"][\"index\"],\n",
    "                         V_Swap_Dict[\"Float_Leg\"][\"spread\"], \n",
    "                         V_Swap_Dict[\"Float_Leg\"][\"floatingDayCount\"] )"
   ]
  },
  {
   "cell_type": "markdown",
   "metadata": {},
   "source": [
    "## 3 - b Swaption Pricing: Vol-cube structure model\n",
    "\n",
    "Inorder to price the swaption, the volatility surface will become a volatility cube (3D) with dimensions: Start, Tenor, Strike and Volatility. "
   ]
  },
  {
   "cell_type": "code",
   "execution_count": 146,
   "metadata": {},
   "outputs": [],
   "source": [
    "# Market vol data for relevent strikes\n",
    "# Note here, the vol cube is flatterning into a 2D matrix\n",
    "# inputs should also include ATM vols and different strike vols\n",
    "###--- ATM inputs---###\n",
    "ATM_optionTenors = [ql.Period(1, ql.Years), ql.Period(2, ql.Years), ql.Period(5, ql.Years)]\n",
    "\n",
    "ATM_swapTenors   = [ql.Period(1, ql.Years), ql.Period(2, ql.Years), ql.Period(5, ql.Years)]\n",
    "\n",
    "ATM_vols = [\n",
    "    [0.431,0.4717,0.4502],\n",
    "    [0.4625,0.4525,0.4363],\n",
    "    [0.426,0.4109,0.3843],\n",
    "]\n",
    "atmVol = ql.SwaptionVolatilityStructureHandle(\n",
    "            ql.SwaptionVolatilityMatrix(\n",
    "                t_calendar,\n",
    "                ql.Following,\n",
    "                ATM_optionTenors,\n",
    "                ATM_swapTenors,\n",
    "                ql.Matrix(ATM_vols),\n",
    "                ql.Actual360(),\n",
    "            ))\n",
    "###--- Different Strike inputs---###\n",
    "optionTenors  = [ql.Period(1, ql.Years), ql.Period(2, ql.Years), ql.Period(5, ql.Years)]\n",
    "\n",
    "swapTenors    = [ql.Period(2, ql.Years), ql.Period(5, ql.Years), ql.Period(10, ql.Years)]\n",
    "\n",
    "strikeSpreads = [-0.01, 0.0, 0.01 ] # Only consider 1%-3% strikes, change when needed\n",
    "\n",
    "nRows = len(optionTenors) * len(swapTenors)\n",
    "nCols = len(strikeSpreads)\n",
    "# Market vol data \n",
    "volSpreadsMatrix = [\n",
    "            [0.4417, 0.0, -0.1147],\n",
    "            [0.3652, 0.0, -0.0848],\n",
    "            [0.2896, 0.0, -0.063],\n",
    "            [0.3643, 0.0, -0.1045],\n",
    "            [0.3023, 0.0, -0.0884],\n",
    "            [0.2268, 0.0, -0.0753],\n",
    "            [0.251, 0.0, -0.0818],\n",
    "            [0.2001, 0.0, -0.0744],\n",
    "            [0.1653, 0.0, -0.0685],\n",
    "        ]\n",
    "# Build vol termstructure\n",
    "volSpreads = []\n",
    "for i in range(nRows):\n",
    "    volSpreadsRow = []\n",
    "    for j in range(nCols):\n",
    "        volSpreadsRow.append(ql.QuoteHandle(ql.SimpleQuote(volSpreadsMatrix[i][j])))\n",
    "    volSpreads.append(volSpreadsRow)\n",
    "\n",
    "# Setup swap index base\n",
    "# The swap index base for USD swap should be \"UsdLiborSwapIsdaFixAm\" or \"UsdLiborSwapIsdaFixPm\"\n",
    "# However, currently Nov-21-2019 this class is not supported in PYTHON.\n",
    "# please wait for furthere implementation and update correspondingly.\n",
    "swapIndexBase = ql.EuriborSwapIsdaFixA(ql.Period(10, ql.Years), f_hyts)\n",
    "shortSwapIndexBase = ql.EuriborSwapIsdaFixA(ql.Period(2, ql.Years), f_hyts)\n",
    "\n",
    "vegaWeightedSmileFit = False\n",
    "VolCube = ql.SwaptionVolatilityStructureHandle(\n",
    "            ql.SwaptionVolCube2(\n",
    "                atmVol,\n",
    "                optionTenors,\n",
    "                swapTenors,\n",
    "                strikeSpreads,\n",
    "                volSpreads,\n",
    "                swapIndexBase,\n",
    "                shortSwapIndexBase,\n",
    "                vegaWeightedSmileFit,\n",
    "            )\n",
    "        )"
   ]
  },
  {
   "cell_type": "markdown",
   "metadata": {},
   "source": [
    "## 3 - c Swaption Pricing: Setup option object and pricing engine"
   ]
  },
  {
   "cell_type": "code",
   "execution_count": 147,
   "metadata": {},
   "outputs": [
    {
     "name": "stdout",
     "output_type": "stream",
     "text": [
      "NPV of swaption=2886487, In terms of notional=2.9%\n"
     ]
    }
   ],
   "source": [
    "# QuantLib Swaption handler\n",
    "# BBG answer Long Payer 2% 0.9% and Long Reciver 3.0% \n",
    "effective = calendar.advance(Mkt_dict[\"SDate\"], 2, ql.Years) # Forward effective date\n",
    "swaption = ql.Swaption(Swap, ql.EuropeanExercise(effective), ql.Settlement.Cash)\n",
    "# Black Swaption Engine\n",
    "engine = ql.BlackSwaptionEngine(hyts, VolCube)\n",
    "swaption.setPricingEngine(engine)\n",
    "NPV_Swaption = swaption.NPV()\n",
    "print(\"NPV of swaption={:.0f}, In terms of notional={:.1f}%\".format(NPV_Swaption,100*NPV_Swaption/V_Swap_Dict[\"Notional\"]))"
   ]
  },
  {
   "cell_type": "markdown",
   "metadata": {},
   "source": [
    "## Summary\n",
    "In this section I list out three different basic options pricing method with QuantLib Pyhton. However, as you noticed, current version of python QuantLib still needs work. When we are pricing FX option we treat it as an vanilla stock option with Dividend Rate replaced by foreign risk free rate. The more accurate way to do this is using the FX curve instead of assuming it is flat. We also priced Cap/Floor options with the actual USD term structure. And in the end we are pricing Swaption with actual USD term structure.\n",
    "<font color='blue'>\n",
    "1. This notebook is totally based on the previous one wiht bootstrapping and swap pricing. Any problems related to that please refer to previous workbook.\n",
    "2. Swaption pricing missing an important class in PYTHON to setup a correct swap base index.\n",
    "3. Considering the effort to actually input Swaption Cube in the next section, I will talk about how to use shrot rate model to price swaption."
   ]
  }
 ],
 "metadata": {
  "kernelspec": {
   "display_name": "Python 3",
   "language": "python",
   "name": "python3"
  },
  "language_info": {
   "codemirror_mode": {
    "name": "ipython",
    "version": 3
   },
   "file_extension": ".py",
   "mimetype": "text/x-python",
   "name": "python",
   "nbconvert_exporter": "python",
   "pygments_lexer": "ipython3",
   "version": "3.6.1"
  }
 },
 "nbformat": 4,
 "nbformat_minor": 2
}
