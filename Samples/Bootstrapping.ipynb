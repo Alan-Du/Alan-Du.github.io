{
 "cells": [
  {
   "cell_type": "markdown",
   "metadata": {
    "colab_type": "text",
    "id": "zVtw6n7bT110"
   },
   "source": [
    "# BootStrapping Workbook\n",
    "--- Nov-18-2019, Alan, Shaolun.du@gmail.com\n",
    "\n",
    "This is a detailed documentation on Yield Curve Bootstrapping. In the following, I will go over two different approaches on curve bootstrapping also includes topic on how to construct different types of curves: \n",
    "\n",
    "- Boostrapping by QuantLib (Full implementation for pricing)\n",
    "- FX curve, OIS curve and SOFR curve (Maybe)\n",
    "- Structure for wrapping curves for difference currencies\n",
    "\n",
    "*** NOTE: I will use USD curve as an example going forward, and I will talk about how to get other major currency curves as variantion to USD curves in the end.\n"
   ]
  },
  {
   "cell_type": "markdown",
   "metadata": {},
   "source": [
    "## 1 - QuantLib for curve building\n",
    "\n",
    "To start, please import the library:"
   ]
  },
  {
   "cell_type": "code",
   "execution_count": 3,
   "metadata": {
    "colab": {},
    "colab_type": "code",
    "collapsed": true,
    "id": "rhZ0RUw8T111"
   },
   "outputs": [],
   "source": [
    "import math\n",
    "import numpy as np\n",
    "import QuantLib as ql\n",
    "import matplotlib.pyplot as plt\n",
    "%matplotlib inline"
   ]
  },
  {
   "cell_type": "code",
   "execution_count": 175,
   "metadata": {
    "collapsed": true
   },
   "outputs": [],
   "source": [
    "def plot_helper( sDate,\n",
    "                 yts,\n",
    "                 N_y = 0):\n",
    "    # A plotting function for term structure\n",
    "    if N_y == 0:\n",
    "        sample_dates = [ sDate + ql.Period(i, ql.Weeks) for i in range(4*12*30) ]\n",
    "    else:\n",
    "        sample_dates = [ sDate + ql.Period(i, ql.Weeks) for i in range(4*12*N_y) ]\n",
    "    zeros_r = [ yts.zeroRate(d, ql.Thirty360(), ql.Continuous).rate() for d in sample_dates ]\n",
    "    fig = plt.figure(figsize=(12,6))\n",
    "    ax = fig.add_subplot(1,1,1)\n",
    "    ax.plot_date([d.to_date() for d in sample_dates], zeros_r, '-')\n",
    "    return fig"
   ]
  },
  {
   "cell_type": "markdown",
   "metadata": {
    "colab_type": "text",
    "id": "A1vVKBCQT114"
   },
   "source": [
    "Now, I will walk you through its basic method for curve building(Bootstrapping). Basically, we will need three different sets of market liquid instruments they are: Cash Rates(deposit rates, for spot-6M long), Future Rates(Market tradable bond futures, for 6M-2Y long) and Swap Rates(for 2Y-30Y long). The reason behind instruments selecting is totally based on the liquidity, meaning we will use the most liquidity market tradable instruments.\n",
    "\n",
    "In summary:\n",
    "\n",
    "1. Cash Rates, Futures Rates and Swap Rates.\n",
    "2. For each market instruments, we will remember its convention. They are the key instrument details assiciated with each instrument we are using. For example: settlementDays, fixedLegFrequency, fixedLegTenor, fixedLegAdjustment, fixedLegDayCounter, floatingLegFrequency, floatingLegTenor, floatingLegAdjustment, index. \n",
    "3. Combined three sets of market instruments together to build a yield curve."
   ]
  },
  {
   "cell_type": "markdown",
   "metadata": {
    "colab": {},
    "colab_type": "code",
    "id": "JKAjoAbjT115"
   },
   "source": [
    "### 1 - a LIBOR Curve Helpers"
   ]
  },
  {
   "cell_type": "markdown",
   "metadata": {
    "colab_type": "text",
    "id": "iz5l0YacT117"
   },
   "source": [
    "In QuantLib, all those three different set of instruments are called helpers. They are: depositHelpers, futuresHelpers, swapHelpers. In the following, I will wirte a function to record instrument's details.\n",
    "\n",
    "The reason for this is all major currency curves convention (settings) are not changed over years. So we can just pre-code them all into curve building.\n",
    "\n",
    "For example, USD curve settings looks like following:"
   ]
  },
  {
   "cell_type": "code",
   "execution_count": 91,
   "metadata": {
    "colab": {},
    "colab_type": "code",
    "collapsed": true,
    "id": "Ni74wj7IT117"
   },
   "outputs": [],
   "source": [
    "Con_dict = {\n",
    "# All details listed here is directly from the market instruments\n",
    "# If changed to another sets of market instruments please update details here!\n",
    "    \"Cash\":{ \"DayCount\":ql.Actual360(),\n",
    "             \"EOM\":False, # Check if end of month please change correspondingly\n",
    "             \"BsDay\":ql.ModifiedFollowing,\n",
    "             \"Calendar\":ql.UnitedStates(),\n",
    "             \"SettlementDays\": 2, # Settlement shift after fixing\n",
    "           },\n",
    "    \"Future\":{ \"DayCount\":ql.Actual360(),\n",
    "               \"EOM\":False, # Check if end of month please change correspondingly\n",
    "               \"BsDay\":ql.ModifiedFollowing,\n",
    "               \"ConVes_Adj\":ql.QuoteHandle(ql.SimpleQuote(0.0)),# For convexity adjustment\n",
    "               \"Calendar\":ql.UnitedStates(),\n",
    "               \"SettlementDays\": 2, # Settlement shift after fixing\n",
    "               \"LengthInMonths\": 3,\n",
    "             },\n",
    "    \"Swap\":{  \"Index\":ql.USDLibor(ql.Period(3,ql.Months)), # Floating Leg index rate\n",
    "              \"FloatingLegTenor\":ql.Period(3,ql.Months),\n",
    "              \"FloatingLegFrequency\":ql.Quarterly,\n",
    "              \"FloatingLegAdjustment\":ql.ModifiedFollowing,\n",
    "              \"FloatingLegDayCounter\":ql.Actual360(),\n",
    "              \"FixedLegFrequency\":ql.Semiannual,\n",
    "              \"FixedLegTenor\":ql.Period(6,ql.Months),\n",
    "              \"FixedLegAdjustment\":ql.ModifiedFollowing,\n",
    "              \"FixedLegDayCounter\":ql.Thirty360(),\n",
    "              \"SettlementDays\": 2, # Settlement shift after fixing\n",
    "              \"Calendar\":ql.UnitedStates(),\n",
    "            },\n",
    "}"
   ]
  },
  {
   "cell_type": "markdown",
   "metadata": {
    "colab_type": "text",
    "id": "dKAqwc2VT119"
   },
   "source": [
    "Below are market quotes for all insturments:"
   ]
  },
  {
   "cell_type": "code",
   "execution_count": 92,
   "metadata": {
    "collapsed": true
   },
   "outputs": [],
   "source": [
    "def Cal_IMM_Date( sDate, Num ):\n",
    "    import datetime as dt\n",
    "    # Calculate next Num IMM date\n",
    "    # This operation used for Futures maturity date only\n",
    "    # IMM will be the 3rd Weds for every 3,6,9,12 month (Quaterly)\n",
    "    while Num >0:\n",
    "        dd = sDate.day\n",
    "        mm = sDate.month\n",
    "        yy = sDate.year\n",
    "        yy1 = yy\n",
    "        mm3 = 3+(mm-(mm%3))\n",
    "        if mm%3 == 0:\n",
    "            mm3 = mm\n",
    "        day11 = dt.date(yy1, mm3, 1)\n",
    "        wkday = (day11.weekday()+2)%7\n",
    "        immday = 21 - ((wkday + 2)%7)\n",
    "        if mm == mm3 and dd > immday:\n",
    "            mm3 = mm3 + 3\n",
    "            if mm3 > 12:\n",
    "                mm3 = mm3 - 12\n",
    "                yy1 = yy1 + 1\n",
    "            day11 = dt.date(yy1, mm3, 1)\n",
    "            wkday = (day11.weekday()+2)%7\n",
    "            immday = 21 - ((wkday + 2)%7)\n",
    "        Num -= 1\n",
    "        sDate = dt.date(yy1, mm3, immday)+dt.timedelta(days=1)\n",
    "    return ql.Date(immday, mm3, yy1)"
   ]
  },
  {
   "cell_type": "code",
   "execution_count": 93,
   "metadata": {},
   "outputs": [
    {
     "name": "stdout",
     "output_type": "stream",
     "text": [
      "September 18th, 2019\n"
     ]
    }
   ],
   "source": [
    "# Testing function for IMM dates\n",
    "import datetime as dt\n",
    "sdate = dt.date(2019,1,18)\n",
    "print(Cal_IMM_Date( sdate, 3 ))"
   ]
  },
  {
   "cell_type": "code",
   "execution_count": 94,
   "metadata": {
    "collapsed": true
   },
   "outputs": [],
   "source": [
    "Mkt_dict = {\n",
    "    \"SDate\": ql.Date(18,11,2019), # Curve starting date\n",
    "    \"Cash\":{ (1,ql.Months): 0.018325,\n",
    "             (3,ql.Months): 0.019026,\n",
    "             (6,ql.Months): 0.019185,\n",
    "           },\n",
    "    \"Future\":{ # IMM dates can be automated using above functions\n",
    "               # For clearly here I keep it as inputs date values\n",
    "               ql.Date(18,12,2019): 98.1125,\n",
    "               ql.Date(18,3,2020): 98.325,\n",
    "               ql.Date(17,6,2020): 98.415,\n",
    "               ql.Date(16,9,2020): 98.49,\n",
    "               ql.Date(16,9,2020): 98.49,\n",
    "               ql.Date(16,9,2020): 98.55,\n",
    "             },\n",
    "    \"Swap\":{  (2,ql.Years): 0.01604,\n",
    "              (3,ql.Years): 0.0157,\n",
    "              (4,ql.Years): 0.01567,\n",
    "              (5,ql.Years): 0.015785,\n",
    "              (6,ql.Years): 0.01597,\n",
    "              (7,ql.Years): 0.0162,\n",
    "              (8,ql.Years): 0.016475,\n",
    "              (9,ql.Years): 0.01677,\n",
    "              (10,ql.Years): 0.01705,\n",
    "              (11,ql.Years): 0.017315,\n",
    "              (12,ql.Years): 0.01756,\n",
    "              (15,ql.Years): 0.01811,\n",
    "              (20,ql.Years): 0.01869,\n",
    "              (25,ql.Years): 0.0189,\n",
    "              (30,ql.Years): 0.018932,\n",
    "              (40,ql.Years): 0.01873,\n",
    "            },\n",
    "}"
   ]
  },
  {
   "cell_type": "markdown",
   "metadata": {},
   "source": [
    "The curve building function listed below, taking all three market instruments into one and generate the result as an QuantLib object \"TermStructure\":"
   ]
  },
  {
   "cell_type": "markdown",
   "metadata": {},
   "source": [
    "### 1 - b LIBOR Curve Builder"
   ]
  },
  {
   "cell_type": "code",
   "execution_count": 95,
   "metadata": {
    "collapsed": true
   },
   "outputs": [],
   "source": [
    "def Bootstrapping( Market, Convention ):\n",
    "    sDate = Market[\"SDate\"]\n",
    "    ql.Settings.instance().evaluationDate = sDate\n",
    "    # Convert market quotes into QuantLib \"Quote objects\"\n",
    "    deposits = Market[\"Cash\"]\n",
    "    futures  = Market[\"Future\"]\n",
    "    swaps    = Market[\"Swap\"]\n",
    "    deposits_con  = Convention[\"Cash\"]\n",
    "    futuresc_con  = Convention[\"Future\"]\n",
    "    swaps_con     = Convention[\"Swap\"]\n",
    "    for n,unit in deposits.keys():\n",
    "        deposits[(n,unit)] = ql.SimpleQuote(deposits[(n,unit)])\n",
    "    for d in futures.keys():\n",
    "        futures[d] = ql.SimpleQuote(futures[d])\n",
    "    for n,unit in swaps.keys():\n",
    "        swaps[(n,unit)] = ql.SimpleQuote(swaps[(n,unit)])\n",
    "    # Build up helpers for curve building\n",
    "    depositHelpers = [ ql.DepositRateHelper( ql.QuoteHandle(deposits[(n,unit)]),\n",
    "                                             ql.Period(n,unit), deposits_con[\"SettlementDays\"],\n",
    "                                             deposits_con[\"Calendar\"], deposits_con[\"BsDay\"],\n",
    "                                             deposits_con[\"EOM\"], deposits_con[\"DayCount\"])\n",
    "                       for n, unit in deposits.keys() ]\n",
    "    futuresHelpers = [ ql.FuturesRateHelper( ql.QuoteHandle(futures[d]),\n",
    "                                             d, futuresc_con[\"LengthInMonths\"],\n",
    "                                             futuresc_con[\"Calendar\"], futuresc_con[\"BsDay\"],\n",
    "                                             futuresc_con[\"EOM\"], futuresc_con[\"DayCount\"],\n",
    "                                             futuresc_con[\"ConVes_Adj\"])\n",
    "                       for d in futures.keys() ]\n",
    "    swapHelpers = [ ql.SwapRateHelper( ql.QuoteHandle(swaps[(n,unit)]),\n",
    "                                       ql.Period(n,unit), swaps_con[\"Calendar\"],\n",
    "                                       swaps_con[\"FixedLegFrequency\"], swaps_con[\"FixedLegAdjustment\"],\n",
    "                                       swaps_con[\"FixedLegDayCounter\"], swaps_con[\"Index\"])\n",
    "                    for n, unit in swaps.keys() ]\n",
    "    # term-structure construction\n",
    "    helpers = depositHelpers + futuresHelpers + swapHelpers # Helpers combined\n",
    "    yts = ql.PiecewiseFlatForward( sDate, helpers, ql.Actual360()) # Forward curve defination\n",
    "    \n",
    "    return yts"
   ]
  },
  {
   "cell_type": "code",
   "execution_count": 96,
   "metadata": {
    "colab": {},
    "colab_type": "code",
    "collapsed": true,
    "id": "txF_DuCkT11-",
    "scrolled": true
   },
   "outputs": [],
   "source": [
    "yts = Bootstrapping(Mkt_dict, Con_dict)"
   ]
  },
  {
   "cell_type": "code",
   "execution_count": 103,
   "metadata": {},
   "outputs": [
    {
     "data": {
      "image/png": "[encoded data removed]",
      "text/plain": [
       "<matplotlib.figure.Figure at 0x1ba02978>"
      ]
     },
     "metadata": {},
     "output_type": "display_data"
    }
   ],
   "source": [
    "# Plot yield curve\n",
    "fig = plot_helper(Mkt_dict[\"SDate\"],yts)"
   ]
  },
  {
   "cell_type": "code",
   "execution_count": 135,
   "metadata": {},
   "outputs": [
    {
     "name": "stdout",
     "output_type": "stream",
     "text": [
      "February 20th, 2020 0.9950600960731628 0.995161\n",
      "March 18th, 2020 0.993733960942611 0.993781\n",
      "September 16th, 2020 0.9855772814825235 0.985647\n",
      "March 17th, 2021 0.9783344204111765 0.97818\n",
      "November 21st, 2022 0.9540680891641281 0.954127\n",
      "November 20th, 2023 0.9394183817094383 0.939469\n",
      "November 20th, 2024 0.9243244181919416 0.924386\n",
      "November 20th, 2025 0.9088621844135046 0.908912\n",
      "November 20th, 2026 0.8930197550870433 0.893063\n",
      "November 20th, 2027 0.8767033986364512 0.87665\n",
      "November 20th, 2030 0.8263941969391421 0.826516\n",
      "November 20th, 2034 0.761247264785927 0.76142\n",
      "November 20th, 2039 0.68637526685378 0.686726\n",
      "###---Error Summary---###\n",
      "Total Average Discounting Errors:0.00010268641572502419\n"
     ]
    }
   ],
   "source": [
    "# Testing for discounting curve\n",
    "# BBG Curve setting and valuation results\n",
    "testing = [\n",
    "    [ql.Date(20,2,2020),0.995161],\n",
    "    [ql.Date(18,3,2020),0.993781],\n",
    "    [ql.Date(16,9,2020),0.985647],\n",
    "    [ql.Date(17,3,2021),0.97818],\n",
    "    [ql.Date(21,11,2022),0.954127],\n",
    "    [ql.Date(20,11,2023),0.939469],\n",
    "    [ql.Date(20,11,2024),0.924386],\n",
    "    [ql.Date(20,11,2025),0.908912],\n",
    "    [ql.Date(20,11,2026),0.893063],\n",
    "    [ql.Date(20,11,2027),0.876650],\n",
    "    [ql.Date(20,11,2030),0.826516],\n",
    "    [ql.Date(20,11,2034),0.761420],\n",
    "    [ql.Date(20,11,2039),0.686726],\n",
    "    ]\n",
    "Errors = 0\n",
    "for test in testing:\n",
    "    Dis = yts.discount(test[0])\n",
    "    Errors += abs(Dis-test[1])\n",
    "    print (test[0],Dis,test[1])\n",
    "print(\"###---Error Summary---###\")\n",
    "print(\"Total Average Discounting Errors:{}\".format(Errors/len(testing)))"
   ]
  },
  {
   "cell_type": "markdown",
   "metadata": {
    "colab_type": "text",
    "id": "xADCVaq4T12A"
   },
   "source": [
    "### 1 - c Curve_Helpers:QA"
   ]
  },
  {
   "cell_type": "markdown",
   "metadata": {
    "colab": {},
    "colab_type": "code",
    "id": "Pn_-PPqvT12A"
   },
   "source": [
    "1. **What is the business adjustment paramater?**\n",
    "A: A way to deal with payment happended not on working date. For example \"Modified following business day convention\" means if a business day convention whereby payment days that fall on a holiday or a Saturday or a Sunday roll forward to the next target business day. If that day falls in the next calendar month, the payment day rolls backward to the immediately preceding target business day.\n",
    "2. **Waht is SettlementDays?**\n",
    "A: The settlement date is the date when a trade is final, and the buyer must make payment to the seller while the seller delivers the assets to the buyer. The settlement date for stocks and bonds is usually two business days after the execution date (T+2). For government securities and options, it's the next business day (T+1). In spot foreign exchange (FX), the date is two business days after the transaction date. Options contracts and other derivatives also have settlement dates for trades in addition to a contract's expiration dates.\n",
    "3. **Waht is the output from Bootstrapping?**\n",
    "A: The outpur from Boostrapping is an termstrucutre object which enable to be used for pricing and discounting factor calculation.\n",
    "4. **Waht is the future convexity adjustment?** \n",
    "A: A convexity adjustment is a change required to be made to a forward interest rate or yield to get the expected future interest rate or yield. Convexity adjustment refers to the difference between the forward interest rate and the future interest rate; this difference has to be added to the former to arrive at the latter. The need for this adjustment arises because of the non-linear relationship between bond prices and yields."
   ]
  },
  {
   "cell_type": "markdown",
   "metadata": {
    "colab_type": "text",
    "id": "X15wlMDUT12D"
   },
   "source": [
    "### 2 - Different Curves Building\n",
    "\n",
    "In the above section I showed how to build up the basic USD yield curve using QuantLib based on Cash Rates, Futures Rates and Swaps Rates. In this section, we will look into different curves building method. They are: FX curve and OIS curve. NOTE: Recently LIBOR will be replaced by SOFR which needs more quant-knowledge to bootstrapping.\n",
    "\n",
    "**For FX curve:** The reason we cannot not use LIBOR curve for FX pricing is different currency has differnt credit risk associated. Those type of risks mainly includes country risk or government risk. For a given currency pair, there will be a basis spread in between such that we can use to translate one to another. In this case, the curve we will be using is called FX curve, LIBOR curve plus basis spread.\n",
    "\n",
    "**For OIS curve:** It different from LIBOR curve because it excludes banking risks. After 2008, investor starts to pay huge attention on banking credit risks that drives the whole risk-free rate away from just LIBOR. In this case, the curve we will be using is still a derived curve from LIBOR called OIS curve, OIS quotes plus OIS spread. Details for OIS curve please refer to another paper on my site \"OIS_Curve\"."
   ]
  },
  {
   "cell_type": "markdown",
   "metadata": {},
   "source": [
    "### 2 - a FX Curve Boostrapping\n",
    "In this section I will use USD/EUR curve as an example to build out a FX curve that can be used to calcualte forward FX rates and some risk analysis for futue using. We will do the following:\n",
    "\n",
    "1. Generate EUR LIBOR curve helpers and get a set of basis adjustments factors for different maturity.\n",
    "2. Use linear interpolation to apply those basis adjustment factors on top of the EUR LIBOR curve to get a slightly different rates inputs for curve building.\n",
    "3. Using Bootstrapping to get a EUR/USD basis adjusted curve for fx pricing using (also can be used for cross currency pricing.).\n",
    "4. When we want to price different currency pair, for example EUR/GBP then based on the implementation of EUR/USD and GBP/USD we can do triangle calculation to get EUR/GBP.\n",
    "5. In this workbook I will skip the FX pricing part, please refer to FX pricing workbook for how to use QuantLib do FX pricing.\n",
    "\n",
    "Below are the market inputs and basis adjustment factors for EUR/USD:\n",
    "\n",
    "NOTE: EUR LIBOR market has totaly different convention compared to USD that's why we have to rebuild the Con_dict for this currency. \n",
    "\n",
    "In this example, we will be using a different way to calibrate yield curve. Instead of using futures we will use FRA(Forward rate agreement) to bootstrapping EUR LIBOR curve."
   ]
  },
  {
   "cell_type": "code",
   "execution_count": 151,
   "metadata": {
    "colab": {},
    "colab_type": "code",
    "collapsed": true,
    "id": "ww5sBoFbT12D"
   },
   "outputs": [],
   "source": [
    "# EUR market instruments quotes\n",
    "EUR_Con_dict = {\n",
    "# All details listed here is directly from the market instruments\n",
    "# If changed to another sets of market instruments please update details here!\n",
    "    \"Cash\":{ \"DayCount\":ql.Actual360(),\n",
    "             \"EOM\":False, # Check if end of month please change correspondingly\n",
    "             \"BsDay\":ql.ModifiedFollowing,\n",
    "             \"Calendar\":ql.TARGET(),\n",
    "             \"SettlementDays\": 2, # Settlement shift after fixing\n",
    "           },\n",
    "    \"FRA\":{    \"DayCount\":ql.Actual360(),\n",
    "               \"EOM\":False, # Check if end of month please change correspondingly\n",
    "               \"BsDay\":ql.ModifiedFollowing,\n",
    "               \"fixingDays\":2,# For convexity adjustment\n",
    "               \"Calendar\":ql.TARGET(),\n",
    "               \"SettlementDays\": 2, # Settlement shift after fixing\n",
    "               \"LengthInMonths\": 3,\n",
    "             },\n",
    "    \"Swap\":{  \"Index\":ql.EURLibor(ql.Period(6,ql.Months)), # Floating Leg index rate\n",
    "              \"FloatingLegTenor\":ql.Period(6,ql.Months),\n",
    "              \"FloatingLegFrequency\":ql.Semiannual,\n",
    "              \"FloatingLegAdjustment\":ql.ModifiedFollowing,\n",
    "              \"FloatingLegDayCounter\":ql.Actual360(),\n",
    "              \"FixedLegFrequency\":ql.Annual,\n",
    "              \"FixedLegTenor\":ql.Period(12,ql.Months),\n",
    "              \"FixedLegAdjustment\":ql.ModifiedFollowing,\n",
    "              \"FixedLegDayCounter\":ql.Thirty360(),\n",
    "              \"SettlementDays\": 2, # Settlement shift after fixing\n",
    "              \"Calendar\":ql.TARGET(),\n",
    "            },\n",
    "}\n",
    "EUR_Mkt_dict = {\n",
    "    \"SDate\": ql.Date(18,11,2019), # Curve starting date\n",
    "    \"Cash\":{ (1,ql.Months): -0.0045,\n",
    "             (3,ql.Months): -0.00404,\n",
    "             (6,ql.Months): -0.00333,\n",
    "           },\n",
    "    \"FRA\":{    # IMM dates can be automated using above functions\n",
    "               # For clearly here I keep it as inputs date values\n",
    "               (1,7,ql.Months): -0.00325,\n",
    "               (2,8,ql.Months): -0.00326,\n",
    "               (3,9,ql.Months): -0.00327,\n",
    "               (4,10,ql.Months): -0.00330,\n",
    "               (5,11,ql.Months): -0.00331,\n",
    "               (6,12,ql.Months): -0.00333,\n",
    "               (7,13,ql.Months): -0.00337,\n",
    "               (8,14,ql.Months): -0.00340,\n",
    "               (9,15,ql.Months): -0.00341,\n",
    "               (10,16,ql.Months): -0.00345,\n",
    "             },\n",
    "    \"Swap\":{  (2,ql.Years): -0.00337,\n",
    "              (3,ql.Years): -0.00310,\n",
    "              (4,ql.Years): -0.0027,\n",
    "              (5,ql.Years): -0.00220,\n",
    "              (6,ql.Years): -0.00165,\n",
    "              (7,ql.Years): -0.00107,\n",
    "              (8,ql.Years): -0.00045,\n",
    "              (9,ql.Years): 0.00017,\n",
    "              (10,ql.Years): 0.00077,\n",
    "              (12,ql.Years): 0.00190,\n",
    "              (15,ql.Years): 0.00330,\n",
    "              (20,ql.Years): 0.00455,\n",
    "              (25,ql.Years): 0.00495,\n",
    "              (30,ql.Years): 0.0049,\n",
    "              (40,ql.Years): 0.00445,\n",
    "            },\n",
    "}\n",
    "EURUSD_Basis = {\n",
    "# For simplicity, I start with 1 year \n",
    "# if need more accuratcy we can modify it further\n",
    "    \"Basis\":{ (1,ql.Years): -0.00169,\n",
    "              (2,ql.Years): -0.0016375,\n",
    "              (3,ql.Years): -0.00169375,\n",
    "              (4,ql.Years): -0.00165,\n",
    "              (5,ql.Years): -0.0016125,\n",
    "              (6,ql.Years): -0.001675,\n",
    "              (7,ql.Years): -0.0016625,\n",
    "              (8,ql.Years): -0.0017375,\n",
    "              (9,ql.Years): -0.0017875,\n",
    "              (10,ql.Years): -0.001825,\n",
    "              (12,ql.Years): -0.00190,\n",
    "              (15,ql.Years): -0.001925,\n",
    "              (20,ql.Years): -0.001,\n",
    "              (25,ql.Years): -0.0007,\n",
    "              (30,ql.Years): -0.000055,\n",
    "              (40,ql.Years): -0.000055,\n",
    "            }\n",
    "}"
   ]
  },
  {
   "cell_type": "code",
   "execution_count": 152,
   "metadata": {
    "collapsed": true
   },
   "outputs": [],
   "source": [
    "def Basis_Adjust( Mkt_dict, Basis):\n",
    "    # Apply basis adjustment on top of LIBOR curve\n",
    "    year_li = [2,3,4,5,6,7,8,9,10,12,15,20,25,30,40]\n",
    "    Y1_bs = Basis[\"Basis\"][(1,ql.Years)]\n",
    "    for key,val in Mkt_dict[\"Cash\"].items():\n",
    "        Mkt_dict[\"Cash\"][key] += Y1_bs\n",
    "    for key,val in Mkt_dict[\"FRA\"].items():\n",
    "        Mkt_dict[\"FRA\"][key] += Y1_bs\n",
    "    for yy in year_li:\n",
    "        Mkt_dict[\"Swap\"][(yy,ql.Years)] += Basis[\"Basis\"][(yy,ql.Years)]\n",
    "    return Mkt_dict"
   ]
  },
  {
   "cell_type": "code",
   "execution_count": 153,
   "metadata": {},
   "outputs": [
    {
     "name": "stdout",
     "output_type": "stream",
     "text": [
      "{'SDate': Date(18,11,2019), 'Cash': {(1, 2): -0.006189999999999999, (3, 2): -0.005730000000000001, (6, 2): -0.00502}, 'FRA': {(1, 7, 2): -0.00494, (2, 8, 2): -0.0049499999999999995, (3, 9, 2): -0.00496, (4, 10, 2): -0.00499, (5, 11, 2): -0.005, (6, 12, 2): -0.00502, (7, 13, 2): -0.00506, (8, 14, 2): -0.00509, (9, 15, 2): -0.0051, (10, 16, 2): -0.0051400000000000005}, 'Swap': {(2, 3): -0.0050075, (3, 3): -0.004793749999999999, (4, 3): -0.00435, (5, 3): -0.0038125, (6, 3): -0.003325, (7, 3): -0.0027324999999999997, (8, 3): -0.0021874999999999998, (9, 3): -0.0016175, (10, 3): -0.001055, (12, 3): 0.0, (15, 3): 0.001375, (20, 3): 0.00355, (25, 3): 0.00425, (30, 3): 0.0048449999999999995, (40, 3): 0.004395}}\n"
     ]
    }
   ],
   "source": [
    "# Test to validate basis adjustment\n",
    "EUR_Mkt_dict = Basis_Adjust( EUR_Mkt_dict, EURUSD_Basis)\n",
    "print(EUR_Mkt_dict)"
   ]
  },
  {
   "cell_type": "code",
   "execution_count": 154,
   "metadata": {
    "collapsed": true
   },
   "outputs": [],
   "source": [
    "def Bootstrapping_FRA( Market, Convention ):\n",
    "    sDate = Market[\"SDate\"]\n",
    "    ql.Settings.instance().evaluationDate = sDate\n",
    "    # Convert market quotes into QuantLib \"Quote objects\"\n",
    "    deposits = Market[\"Cash\"]\n",
    "    FRAs     = Market[\"FRA\"]\n",
    "    swaps    = Market[\"Swap\"]\n",
    "    deposits_con  = Convention[\"Cash\"]\n",
    "    FRA_con       = Convention[\"FRA\"]\n",
    "    swaps_con     = Convention[\"Swap\"]\n",
    "    for n,unit in deposits.keys():\n",
    "        deposits[(n,unit)] = ql.SimpleQuote(deposits[(n,unit)])\n",
    "    for d in FRAs.keys():\n",
    "        FRAs[d] = ql.SimpleQuote(FRAs[d])\n",
    "    for n,unit in swaps.keys():\n",
    "        swaps[(n,unit)] = ql.SimpleQuote(swaps[(n,unit)])\n",
    "    # Build up helpers for curve building\n",
    "    depositHelpers = [ ql.DepositRateHelper( ql.QuoteHandle(deposits[(n,unit)]),\n",
    "                                             ql.Period(n,unit), deposits_con[\"SettlementDays\"],\n",
    "                                             deposits_con[\"Calendar\"], deposits_con[\"BsDay\"],\n",
    "                                             deposits_con[\"EOM\"], deposits_con[\"DayCount\"])\n",
    "                       for n, unit in deposits.keys() ]\n",
    "    FRAHelpers = [ ql.FraRateHelper( ql.QuoteHandle(FRAs[d]),\n",
    "                                     d[0],d[1],\n",
    "                                     FRA_con[\"fixingDays\"],\n",
    "                                     FRA_con[\"Calendar\"], FRA_con[\"BsDay\"],\n",
    "                                     FRA_con[\"EOM\"], FRA_con[\"DayCount\"] )\n",
    "                       for d in FRAs.keys() ]\n",
    "    swapHelpers = [ ql.SwapRateHelper( ql.QuoteHandle(swaps[(n,unit)]),\n",
    "                                       ql.Period(n,unit), swaps_con[\"Calendar\"],\n",
    "                                       swaps_con[\"FixedLegFrequency\"], swaps_con[\"FixedLegAdjustment\"],\n",
    "                                       swaps_con[\"FixedLegDayCounter\"], swaps_con[\"Index\"])\n",
    "                    for n, unit in swaps.keys() ]\n",
    "    # term-structure construction\n",
    "    helpers = depositHelpers + FRAHelpers + swapHelpers # Helpers combined\n",
    "    yts = ql.PiecewiseFlatForward( sDate, helpers, ql.Actual360()) # Forward curve defination\n",
    "    return yts"
   ]
  },
  {
   "cell_type": "code",
   "execution_count": 155,
   "metadata": {
    "collapsed": true
   },
   "outputs": [],
   "source": [
    "# Get TermStructure object\n",
    "FX_yts = Bootstrapping_FRA(EUR_Mkt_dict, EUR_Con_dict)"
   ]
  },
  {
   "cell_type": "code",
   "execution_count": 156,
   "metadata": {},
   "outputs": [
    {
     "data": {
      "image/png": "[encoded data removed]",
      "text/plain": [
       "<matplotlib.figure.Figure at 0x1be48a58>"
      ]
     },
     "metadata": {},
     "output_type": "display_data"
    }
   ],
   "source": [
    "# Plot Yield curve \n",
    "fig = plot_helper(EUR_Mkt_dict[\"SDate\"],FX_yts)"
   ]
  },
  {
   "cell_type": "code",
   "execution_count": 157,
   "metadata": {},
   "outputs": [
    {
     "name": "stdout",
     "output_type": "stream",
     "text": [
      "May 21st, 2020 1.0025945298187944 1.004212\n",
      "November 20th, 2020 1.0051578436895778 1.00807\n",
      "November 20th, 2021 1.010128719569832 1.015625\n",
      "November 21st, 2022 1.0145722986536438 1.022587\n",
      "November 20th, 2023 1.0176409895877874 1.028551\n",
      "November 20th, 2024 1.0193517410225914 1.033427\n",
      "November 20th, 2025 1.0202740658518135 1.037011\n",
      "November 20th, 2026 1.019453104017151 1.039984\n",
      "November 20th, 2027 1.017827769647103 1.040538\n",
      "November 20th, 2034 0.9792529236754982 1.0127\n",
      "November 20th, 2039 0.9295492302645842 0.977554\n",
      "###---Error Summary---###\n",
      "Total Average Discounting Errors:0.016768707654693012\n"
     ]
    }
   ],
   "source": [
    "# Testing on FX curve with BBG value\n",
    "testing = [\n",
    "    [ql.Date(21,5,2020),1.004212],\n",
    "    [ql.Date(20,11,2020),1.00807],\n",
    "    [ql.Date(20,11,2021),1.015625],\n",
    "    [ql.Date(21,11,2022),1.022587],\n",
    "    [ql.Date(20,11,2023),1.028551],\n",
    "    [ql.Date(20,11,2024),1.033427],\n",
    "    [ql.Date(20,11,2025),1.037011],\n",
    "    [ql.Date(20,11,2026),1.039984],\n",
    "    [ql.Date(20,11,2027),1.040538],\n",
    "    [ql.Date(20,11,2034),1.012700],\n",
    "    [ql.Date(20,11,2039),0.977554],\n",
    "    ]\n",
    "Errors = 0\n",
    "for test in testing:\n",
    "    Dis = FX_yts.discount(test[0])\n",
    "    Errors += abs(Dis-test[1])\n",
    "    print (test[0],Dis,test[1])\n",
    "print(\"###---Error Summary---###\")\n",
    "print(\"Total Average Discounting Errors:{}\".format(Errors/len(testing)))"
   ]
  },
  {
   "cell_type": "markdown",
   "metadata": {
    "colab_type": "text",
    "id": "DUBum-E4T12K"
   },
   "source": [
    "### 2 - b OIS Curve Boostrapping\n",
    "In this section I will walk you through OIS bootstrapping. I will not talk about much about why we have to do OIS curve as the true risk free curve. Details please refer to my paper \"OIS discounting\". The way we will be using to build this type of curve is inline with Bloomberg curve building function as following:(Take USD as example)\n",
    "\n",
    "1. Using OIS quote from Fed Rate upto 30 years OIS rate and take OIS spread quote from year1 to year30.\n",
    "2. For OIS pricing purpose, we will use dual curve to raw OIS curve for forward cash flow projection and the adjusted OIS curve for discounting. Previously we want to derive FX curve from LIBOR curve but now we want to derive LIBOR curve(adjusted OIS curve) from raw OIS curve.\n",
    "\n",
    "** NOTE **: This implementation looks similar to FX curve building by applying an basis adjusted rate on top of a raw curve. But the direction is opposite to what we have previously. \n",
    "\n",
    "- Market instruments for OIS curve building is different from LIBOR curve.\n",
    "- Basis adjustment starting from year1 but we also need to apply adjustment within year1.\n"
   ]
  },
  {
   "cell_type": "code",
   "execution_count": 177,
   "metadata": {
    "colab": {},
    "colab_type": "code",
    "collapsed": true,
    "id": "nLHdJxKVT12M"
   },
   "outputs": [],
   "source": [
    "OIS_Con_dict = {\n",
    "# All details listed here is directly from the market instruments\n",
    "# If changed to another sets of market instruments please update details here!\n",
    "    \"OIS\":{ \"Index\":ql.OvernightIndex(\"FED\", 2, ql.USDCurrency(), ql.UnitedStates(), ql.Actual360()), # Floating Leg index rate\n",
    "            },\n",
    "}\n",
    "OIS_Mkt_dict = {\n",
    "    \"SDate\": ql.Date(19,11,2019), # Curve starting date\n",
    "    \"OIS\":{   (1,ql.Weeks): 0.0156,\n",
    "              (2,ql.Weeks): 0.01565,\n",
    "              (3,ql.Weeks): 0.01567,\n",
    "              (2,ql.Months): 0.01555,\n",
    "              (3,ql.Months): 0.01544,\n",
    "              (6,ql.Months): 0.01506,\n",
    "              (12,ql.Months): 0.01433,\n",
    "              (18,ql.Months): 0.0137,\n",
    "              (2,ql.Years): 0.0134,\n",
    "              (3,ql.Years): 0.01315,\n",
    "              (5,ql.Years): 0.0133,\n",
    "              (7,ql.Years): 0.01372,\n",
    "              (10,ql.Years): 0.01456,\n",
    "              (12,ql.Years): 0.01503,\n",
    "              (15,ql.Years): 0.01558,\n",
    "              (20,ql.Years): 0.01613,\n",
    "            },\n",
    "}\n",
    "def Bootstrapping_OIS( Market, Convention ):\n",
    "    sDate = Market[\"SDate\"]\n",
    "    ql.Settings.instance().evaluationDate = sDate\n",
    "    # Convert market quotes into QuantLib \"Quote objects\"\n",
    "    OISs     = Market[\"OIS\"]\n",
    "    OISs_con = Convention[\"OIS\"]\n",
    "    for n,unit in OISs.keys():\n",
    "        OISs[(n,unit)] = ql.SimpleQuote(OISs[(n,unit)])\n",
    "    # Build up helpers for curve building\n",
    "    OISHelpers = [ ql.OISRateHelper( 2,\n",
    "                                     ql.Period(n,unit),\n",
    "                                     ql.QuoteHandle(OISs[(n,unit)]),\n",
    "                                     Convention[\"OIS\"][\"Index\"]\n",
    "                                   )\n",
    "                    for n, unit in OISs.keys() ]\n",
    "    # term-structure construction\n",
    "    helpers = OISHelpers # Helpers combined\n",
    "    yts = ql.PiecewiseFlatForward( sDate, helpers, ql.Actual360()) # Forward curve defination\n",
    "    return yts"
   ]
  },
  {
   "cell_type": "code",
   "execution_count": 178,
   "metadata": {},
   "outputs": [
    {
     "data": {
      "image/png": "[encoded data removed]",
      "text/plain": [
       "<matplotlib.figure.Figure at 0x1bdf6208>"
      ]
     },
     "metadata": {},
     "output_type": "display_data"
    }
   ],
   "source": [
    "# Get TermStructure object\n",
    "OIS_yts = Bootstrapping_OIS(OIS_Mkt_dict, OIS_Con_dict)\n",
    "# Plot Yield curve \n",
    "fig = plot_helper(OIS_Mkt_dict[\"SDate\"],OIS_yts,10)"
   ]
  },
  {
   "cell_type": "code",
   "execution_count": 180,
   "metadata": {},
   "outputs": [
    {
     "name": "stdout",
     "output_type": "stream",
     "text": [
      "January 23rd, 2020 0.9972015773931316 0.997371\n",
      "May 25th, 2021 0.9793009118857002 0.97951\n",
      "November 24th, 2021 0.9731604417590645 0.973293\n",
      "November 23rd, 2022 0.9608775517754601 0.961003\n",
      "November 24th, 2023 0.947837062516126 0.948311\n",
      "November 25th, 2024 0.9349254492044597 0.935156\n",
      "###---Error Summary---###\n",
      "Total Average Discounting Errors:0.0002235009110096442\n"
     ]
    }
   ],
   "source": [
    "# Testing on FX curve with BBG value\n",
    "testing = [\n",
    "    [ql.Date(23,1,2020),0.997371],\n",
    "    [ql.Date(25,5,2021),0.97951],\n",
    "    [ql.Date(24,11,2021),0.973293],\n",
    "    [ql.Date(23,11,2022),0.961003],\n",
    "    [ql.Date(24,11,2023),0.948311],\n",
    "    [ql.Date(25,11,2024),0.935156],\n",
    "    ]\n",
    "Errors = 0\n",
    "for test in testing:\n",
    "    Dis = OIS_yts.discount(test[0])\n",
    "    Errors += abs(Dis-test[1])\n",
    "    print (test[0],Dis,test[1])\n",
    "print(\"###---Error Summary---###\")\n",
    "print(\"Total Average Discounting Errors:{}\".format(Errors/len(testing)))"
   ]
  },
  {
   "cell_type": "markdown",
   "metadata": {
    "colab_type": "text",
    "id": "v-okwynUT12O"
   },
   "source": [
    "<font color='blue'>\n",
    "**To summarize**:\n",
    "1. We have using QAuantLib to bootstrap yield curve with three major types they are: LIBOR curve, FX curve and OIS curve. They will be used further to price swaps and fx and even other derivatives based on interests rate curve.\n",
    "2. Besides of this, there are plenty of different curves in the market. For example, USD we can use 3ML market instruments but we also can use 6ML market instruments. If we switch to a different curve setting the yield curve will be different. However, one would ask how about the pricing? A quick answer is different, because \"Libor is not equal to Libor\" this is a well know effects when we swithcing from 6ML to 3ML the different is called maturity basis spread.\n",
    "3. To further use and implement this program, we need to wrap it with object-orianted programming structure. "
   ]
  },
  {
   "cell_type": "markdown",
   "metadata": {
    "colab_type": "text",
    "id": "DMY1FYvOT13H"
   },
   "source": [
    "**Summary QA**:\n",
    "- **How to recognize what type of curve to build and how to find corresponding market instruments?**\n",
    "A: Please refer to the acutal trade details for curve building, say if the trade specified 3ML then we should build 3ML Libor as well. After confirmed with the curve to use, please go to BBG ICVS to find out the exact curve. At that page, all market instruments will be available to you. Look carefully on the instrument conventions.\n",
    "- **How to check if current curve is good enough to use for Risk purpose?**\n",
    "A: The same function in ICVS will also give you a discoutning table. Please wirte a simple program to check if all dates in that table is close enough to the curve you are building. Generally difference within 1bps is acceptable."
   ]
  }
 ],
 "metadata": {
  "coursera": {
   "course_slug": "deep-neural-network",
   "graded_item_id": "BFd89",
   "launcher_item_id": "AH2rK"
  },
  "kernelspec": {
   "display_name": "Python 3",
   "language": "python",
   "name": "python3"
  },
  "language_info": {
   "codemirror_mode": {
    "name": "ipython",
    "version": 3
   },
   "file_extension": ".py",
   "mimetype": "text/x-python",
   "name": "python",
   "nbconvert_exporter": "python",
   "pygments_lexer": "ipython3",
   "version": "3.6.1"
  }
 },
 "nbformat": 4,
 "nbformat_minor": 2
}
